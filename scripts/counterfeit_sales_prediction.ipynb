{
 "cells": [
  {
   "cell_type": "code",
   "execution_count": 1,
   "metadata": {},
   "outputs": [],
   "source": [
    "import numpy as np\n",
    "import pandas as pd\n",
    "import matplotlib.pyplot as plt\n",
    "%matplotlib inline\n",
    "import seaborn as sns"
   ]
  },
  {
   "cell_type": "code",
   "execution_count": 2,
   "metadata": {},
   "outputs": [],
   "source": [
    "def missing_percentage(df):\n",
    "    total = df.isna().sum().sort_values(ascending=False)\n",
    "    total.name = 'Total'\n",
    "    percent = round(100* (total/len(train)), 2)\n",
    "    percent.name = 'Percentage'\n",
    "    x = pd.concat([total, percent], axis=1)\n",
    "    return x.loc[x['Total']!=0]\n",
    "\n",
    "def value_count_percentage(df, column):\n",
    "    \n",
    "    total = df[column].value_counts(dropna=False).sort_values(ascending=False)\n",
    "    total.name = 'Total'\n",
    "    percent = round(100 * df[column].value_counts(dropna=False, normalize=True).sort_values(ascending=False), 2)\n",
    "    percent.name = 'Percentage'\n",
    "    return pd.concat([total, percent], axis=1)    "
   ]
  },
  {
   "cell_type": "code",
   "execution_count": 3,
   "metadata": {},
   "outputs": [
    {
     "name": "stdout",
     "output_type": "stream",
     "text": [
      "../data/counterfeit_train.csv\n",
      "../data/counterfeit_test.csv\n"
     ]
    }
   ],
   "source": [
    "train_file = '../data/counterfeit_train.csv'\n",
    "test_file = '../data/counterfeit_test.csv'\n",
    "print(train_file)\n",
    "print(test_file)"
   ]
  },
  {
   "cell_type": "code",
   "execution_count": 4,
   "metadata": {},
   "outputs": [],
   "source": [
    "train = pd.read_csv(train_file)\n",
    "test = pd.read_csv(test_file)"
   ]
  },
  {
   "cell_type": "code",
   "execution_count": 5,
   "metadata": {},
   "outputs": [],
   "source": [
    "train_copied = train.copy()\n",
    "test_copied = test.copy()"
   ]
  },
  {
   "cell_type": "code",
   "execution_count": 6,
   "metadata": {},
   "outputs": [
    {
     "data": {
      "text/plain": [
       "(6818, 12)"
      ]
     },
     "execution_count": 6,
     "metadata": {},
     "output_type": "execute_result"
    }
   ],
   "source": [
    "train.shape"
   ]
  },
  {
   "cell_type": "code",
   "execution_count": 7,
   "metadata": {},
   "outputs": [
    {
     "data": {
      "text/plain": [
       "(1705, 11)"
      ]
     },
     "execution_count": 7,
     "metadata": {},
     "output_type": "execute_result"
    }
   ],
   "source": [
    "test.shape"
   ]
  },
  {
   "cell_type": "code",
   "execution_count": 8,
   "metadata": {},
   "outputs": [
    {
     "name": "stdout",
     "output_type": "stream",
     "text": [
      "<class 'pandas.core.frame.DataFrame'>\n",
      "RangeIndex: 6818 entries, 0 to 6817\n",
      "Data columns (total 12 columns):\n",
      " #   Column               Non-Null Count  Dtype  \n",
      "---  ------               --------------  -----  \n",
      " 0   Medicine_ID          6818 non-null   object \n",
      " 1   Counterfeit_Weight   5652 non-null   float64\n",
      " 2   DistArea_ID          6818 non-null   object \n",
      " 3   Active_Since         6818 non-null   int64  \n",
      " 4   Medicine_MRP         6818 non-null   float64\n",
      " 5   Medicine_Type        6818 non-null   object \n",
      " 6   SidEffect_Level      6818 non-null   object \n",
      " 7   Availability_rating  6818 non-null   float64\n",
      " 8   Area_Type            6818 non-null   object \n",
      " 9   Area_City_Type       6818 non-null   object \n",
      " 10  Area_dist_level      6818 non-null   object \n",
      " 11  Counterfeit_Sales    6818 non-null   float64\n",
      "dtypes: float64(4), int64(1), object(7)\n",
      "memory usage: 639.3+ KB\n"
     ]
    }
   ],
   "source": [
    "train.info()"
   ]
  },
  {
   "cell_type": "code",
   "execution_count": 9,
   "metadata": {},
   "outputs": [
    {
     "name": "stdout",
     "output_type": "stream",
     "text": [
      "<class 'pandas.core.frame.DataFrame'>\n",
      "RangeIndex: 1705 entries, 0 to 1704\n",
      "Data columns (total 11 columns):\n",
      " #   Column               Non-Null Count  Dtype  \n",
      "---  ------               --------------  -----  \n",
      " 0   Medicine_ID          1705 non-null   object \n",
      " 1   Counterfeit_Weight   1408 non-null   float64\n",
      " 2   DistArea_ID          1705 non-null   object \n",
      " 3   Active_Since         1705 non-null   int64  \n",
      " 4   Medicine_MRP         1705 non-null   float64\n",
      " 5   Medicine_Type        1705 non-null   object \n",
      " 6   SidEffect_Level      1705 non-null   object \n",
      " 7   Availability_rating  1705 non-null   float64\n",
      " 8   Area_Type            1705 non-null   object \n",
      " 9   Area_City_Type       1705 non-null   object \n",
      " 10  Area_dist_level      1705 non-null   object \n",
      "dtypes: float64(3), int64(1), object(7)\n",
      "memory usage: 146.6+ KB\n"
     ]
    }
   ],
   "source": [
    "test.info()"
   ]
  },
  {
   "cell_type": "code",
   "execution_count": 10,
   "metadata": {},
   "outputs": [
    {
     "data": {
      "text/html": [
       "<div>\n",
       "<style scoped>\n",
       "    .dataframe tbody tr th:only-of-type {\n",
       "        vertical-align: middle;\n",
       "    }\n",
       "\n",
       "    .dataframe tbody tr th {\n",
       "        vertical-align: top;\n",
       "    }\n",
       "\n",
       "    .dataframe thead th {\n",
       "        text-align: right;\n",
       "    }\n",
       "</style>\n",
       "<table border=\"1\" class=\"dataframe\">\n",
       "  <thead>\n",
       "    <tr style=\"text-align: right;\">\n",
       "      <th></th>\n",
       "      <th>Medicine_ID</th>\n",
       "      <th>Counterfeit_Weight</th>\n",
       "      <th>DistArea_ID</th>\n",
       "      <th>Active_Since</th>\n",
       "      <th>Medicine_MRP</th>\n",
       "      <th>Medicine_Type</th>\n",
       "      <th>SidEffect_Level</th>\n",
       "      <th>Availability_rating</th>\n",
       "      <th>Area_Type</th>\n",
       "      <th>Area_City_Type</th>\n",
       "      <th>Area_dist_level</th>\n",
       "      <th>Counterfeit_Sales</th>\n",
       "    </tr>\n",
       "  </thead>\n",
       "  <tbody>\n",
       "    <tr>\n",
       "      <th>5420</th>\n",
       "      <td>UAV72</td>\n",
       "      <td>22.000</td>\n",
       "      <td>Area010</td>\n",
       "      <td>1996</td>\n",
       "      <td>103.1436</td>\n",
       "      <td>Antipyretics</td>\n",
       "      <td>critical</td>\n",
       "      <td>0.204009</td>\n",
       "      <td>MidTownResidential</td>\n",
       "      <td>Tier 3</td>\n",
       "      <td>Unknown</td>\n",
       "      <td>302.0872</td>\n",
       "    </tr>\n",
       "    <tr>\n",
       "      <th>4849</th>\n",
       "      <td>MPG14</td>\n",
       "      <td>8.665</td>\n",
       "      <td>Area046</td>\n",
       "      <td>1995</td>\n",
       "      <td>236.4720</td>\n",
       "      <td>Antibiotics</td>\n",
       "      <td>mild</td>\n",
       "      <td>0.055560</td>\n",
       "      <td>DownTown</td>\n",
       "      <td>Tier 1</td>\n",
       "      <td>Small</td>\n",
       "      <td>3282.2080</td>\n",
       "    </tr>\n",
       "    <tr>\n",
       "      <th>5655</th>\n",
       "      <td>THP41</td>\n",
       "      <td>10.195</td>\n",
       "      <td>Area010</td>\n",
       "      <td>1996</td>\n",
       "      <td>245.8616</td>\n",
       "      <td>Statins</td>\n",
       "      <td>mild</td>\n",
       "      <td>0.139288</td>\n",
       "      <td>MidTownResidential</td>\n",
       "      <td>Tier 3</td>\n",
       "      <td>Unknown</td>\n",
       "      <td>581.7232</td>\n",
       "    </tr>\n",
       "    <tr>\n",
       "      <th>2735</th>\n",
       "      <td>KDQ15</td>\n",
       "      <td>NaN</td>\n",
       "      <td>Area027</td>\n",
       "      <td>1983</td>\n",
       "      <td>52.7454</td>\n",
       "      <td>Antiseptics</td>\n",
       "      <td>mild</td>\n",
       "      <td>0.037213</td>\n",
       "      <td>CityLimits</td>\n",
       "      <td>Tier 3</td>\n",
       "      <td>Medium</td>\n",
       "      <td>406.6178</td>\n",
       "    </tr>\n",
       "    <tr>\n",
       "      <th>1909</th>\n",
       "      <td>MYA10</td>\n",
       "      <td>20.050</td>\n",
       "      <td>Area035</td>\n",
       "      <td>2002</td>\n",
       "      <td>217.4954</td>\n",
       "      <td>Antiseptics</td>\n",
       "      <td>mild</td>\n",
       "      <td>0.023364</td>\n",
       "      <td>DownTown</td>\n",
       "      <td>Tier 2</td>\n",
       "      <td>Small</td>\n",
       "      <td>1780.1632</td>\n",
       "    </tr>\n",
       "    <tr>\n",
       "      <th>5603</th>\n",
       "      <td>XPX11</td>\n",
       "      <td>16.650</td>\n",
       "      <td>Area013</td>\n",
       "      <td>1985</td>\n",
       "      <td>48.6190</td>\n",
       "      <td>OralContraceptives</td>\n",
       "      <td>mild</td>\n",
       "      <td>0.027008</td>\n",
       "      <td>DownTown</td>\n",
       "      <td>Tier 3</td>\n",
       "      <td>High</td>\n",
       "      <td>405.9520</td>\n",
       "    </tr>\n",
       "    <tr>\n",
       "      <th>3012</th>\n",
       "      <td>UCV73</td>\n",
       "      <td>7.705</td>\n",
       "      <td>Area035</td>\n",
       "      <td>2002</td>\n",
       "      <td>138.4678</td>\n",
       "      <td>Hreplacements</td>\n",
       "      <td>mild</td>\n",
       "      <td>0.149275</td>\n",
       "      <td>DownTown</td>\n",
       "      <td>Tier 2</td>\n",
       "      <td>Small</td>\n",
       "      <td>1130.3424</td>\n",
       "    </tr>\n",
       "    <tr>\n",
       "      <th>3654</th>\n",
       "      <td>XWX56</td>\n",
       "      <td>17.650</td>\n",
       "      <td>Area045</td>\n",
       "      <td>2000</td>\n",
       "      <td>137.7020</td>\n",
       "      <td>Antiseptics</td>\n",
       "      <td>mild</td>\n",
       "      <td>0.047743</td>\n",
       "      <td>DownTown</td>\n",
       "      <td>Tier 2</td>\n",
       "      <td>Unknown</td>\n",
       "      <td>872.0120</td>\n",
       "    </tr>\n",
       "    <tr>\n",
       "      <th>5255</th>\n",
       "      <td>IZD14</td>\n",
       "      <td>15.950</td>\n",
       "      <td>Area045</td>\n",
       "      <td>2000</td>\n",
       "      <td>60.0692</td>\n",
       "      <td>Antibiotics</td>\n",
       "      <td>mild</td>\n",
       "      <td>0.013000</td>\n",
       "      <td>DownTown</td>\n",
       "      <td>Tier 2</td>\n",
       "      <td>Unknown</td>\n",
       "      <td>950.5764</td>\n",
       "    </tr>\n",
       "    <tr>\n",
       "      <th>6487</th>\n",
       "      <td>PXM14</td>\n",
       "      <td>12.900</td>\n",
       "      <td>Area035</td>\n",
       "      <td>2002</td>\n",
       "      <td>110.3042</td>\n",
       "      <td>Tranquilizers</td>\n",
       "      <td>mild</td>\n",
       "      <td>0.050574</td>\n",
       "      <td>DownTown</td>\n",
       "      <td>Tier 2</td>\n",
       "      <td>Small</td>\n",
       "      <td>3089.1260</td>\n",
       "    </tr>\n",
       "  </tbody>\n",
       "</table>\n",
       "</div>"
      ],
      "text/plain": [
       "     Medicine_ID  Counterfeit_Weight DistArea_ID  Active_Since  Medicine_MRP  \\\n",
       "5420       UAV72              22.000     Area010          1996      103.1436   \n",
       "4849       MPG14               8.665     Area046          1995      236.4720   \n",
       "5655       THP41              10.195     Area010          1996      245.8616   \n",
       "2735       KDQ15                 NaN     Area027          1983       52.7454   \n",
       "1909       MYA10              20.050     Area035          2002      217.4954   \n",
       "5603       XPX11              16.650     Area013          1985       48.6190   \n",
       "3012       UCV73               7.705     Area035          2002      138.4678   \n",
       "3654       XWX56              17.650     Area045          2000      137.7020   \n",
       "5255       IZD14              15.950     Area045          2000       60.0692   \n",
       "6487       PXM14              12.900     Area035          2002      110.3042   \n",
       "\n",
       "           Medicine_Type SidEffect_Level  Availability_rating  \\\n",
       "5420        Antipyretics        critical             0.204009   \n",
       "4849         Antibiotics            mild             0.055560   \n",
       "5655             Statins            mild             0.139288   \n",
       "2735         Antiseptics            mild             0.037213   \n",
       "1909         Antiseptics            mild             0.023364   \n",
       "5603  OralContraceptives            mild             0.027008   \n",
       "3012       Hreplacements            mild             0.149275   \n",
       "3654         Antiseptics            mild             0.047743   \n",
       "5255         Antibiotics            mild             0.013000   \n",
       "6487       Tranquilizers            mild             0.050574   \n",
       "\n",
       "               Area_Type Area_City_Type Area_dist_level  Counterfeit_Sales  \n",
       "5420  MidTownResidential         Tier 3         Unknown           302.0872  \n",
       "4849            DownTown         Tier 1           Small          3282.2080  \n",
       "5655  MidTownResidential         Tier 3         Unknown           581.7232  \n",
       "2735          CityLimits         Tier 3          Medium           406.6178  \n",
       "1909            DownTown         Tier 2           Small          1780.1632  \n",
       "5603            DownTown         Tier 3            High           405.9520  \n",
       "3012            DownTown         Tier 2           Small          1130.3424  \n",
       "3654            DownTown         Tier 2         Unknown           872.0120  \n",
       "5255            DownTown         Tier 2         Unknown           950.5764  \n",
       "6487            DownTown         Tier 2           Small          3089.1260  "
      ]
     },
     "execution_count": 10,
     "metadata": {},
     "output_type": "execute_result"
    }
   ],
   "source": [
    "train.sample(10)"
   ]
  },
  {
   "cell_type": "code",
   "execution_count": 11,
   "metadata": {},
   "outputs": [
    {
     "data": {
      "text/html": [
       "<div>\n",
       "<style scoped>\n",
       "    .dataframe tbody tr th:only-of-type {\n",
       "        vertical-align: middle;\n",
       "    }\n",
       "\n",
       "    .dataframe tbody tr th {\n",
       "        vertical-align: top;\n",
       "    }\n",
       "\n",
       "    .dataframe thead th {\n",
       "        text-align: right;\n",
       "    }\n",
       "</style>\n",
       "<table border=\"1\" class=\"dataframe\">\n",
       "  <thead>\n",
       "    <tr style=\"text-align: right;\">\n",
       "      <th></th>\n",
       "      <th>Medicine_ID</th>\n",
       "      <th>Counterfeit_Weight</th>\n",
       "      <th>DistArea_ID</th>\n",
       "      <th>Active_Since</th>\n",
       "      <th>Medicine_MRP</th>\n",
       "      <th>Medicine_Type</th>\n",
       "      <th>SidEffect_Level</th>\n",
       "      <th>Availability_rating</th>\n",
       "      <th>Area_Type</th>\n",
       "      <th>Area_City_Type</th>\n",
       "      <th>Area_dist_level</th>\n",
       "    </tr>\n",
       "  </thead>\n",
       "  <tbody>\n",
       "    <tr>\n",
       "      <th>1215</th>\n",
       "      <td>HJY10</td>\n",
       "      <td>13.950</td>\n",
       "      <td>Area010</td>\n",
       "      <td>1996</td>\n",
       "      <td>63.8324</td>\n",
       "      <td>Antimalarial</td>\n",
       "      <td>mild</td>\n",
       "      <td>0.129203</td>\n",
       "      <td>MidTownResidential</td>\n",
       "      <td>Tier 3</td>\n",
       "      <td>Unknown</td>\n",
       "    </tr>\n",
       "    <tr>\n",
       "      <th>1322</th>\n",
       "      <td>CZV11</td>\n",
       "      <td>13.450</td>\n",
       "      <td>Area035</td>\n",
       "      <td>2002</td>\n",
       "      <td>129.5440</td>\n",
       "      <td>Antifungal</td>\n",
       "      <td>mild</td>\n",
       "      <td>0.013000</td>\n",
       "      <td>DownTown</td>\n",
       "      <td>Tier 2</td>\n",
       "      <td>Small</td>\n",
       "    </tr>\n",
       "    <tr>\n",
       "      <th>958</th>\n",
       "      <td>IMO12</td>\n",
       "      <td>14.800</td>\n",
       "      <td>Area018</td>\n",
       "      <td>2007</td>\n",
       "      <td>68.9562</td>\n",
       "      <td>Antipyretics</td>\n",
       "      <td>critical</td>\n",
       "      <td>0.081149</td>\n",
       "      <td>Industrial</td>\n",
       "      <td>Tier 3</td>\n",
       "      <td>Medium</td>\n",
       "    </tr>\n",
       "    <tr>\n",
       "      <th>269</th>\n",
       "      <td>STR65</td>\n",
       "      <td>NaN</td>\n",
       "      <td>Area027</td>\n",
       "      <td>1983</td>\n",
       "      <td>122.3202</td>\n",
       "      <td>MuscleRelaxants</td>\n",
       "      <td>mild</td>\n",
       "      <td>0.060008</td>\n",
       "      <td>CityLimits</td>\n",
       "      <td>Tier 3</td>\n",
       "      <td>Medium</td>\n",
       "    </tr>\n",
       "    <tr>\n",
       "      <th>829</th>\n",
       "      <td>MXK51</td>\n",
       "      <td>11.195</td>\n",
       "      <td>Area018</td>\n",
       "      <td>2007</td>\n",
       "      <td>128.1492</td>\n",
       "      <td>Cardiac</td>\n",
       "      <td>critical</td>\n",
       "      <td>0.041838</td>\n",
       "      <td>Industrial</td>\n",
       "      <td>Tier 3</td>\n",
       "      <td>Medium</td>\n",
       "    </tr>\n",
       "    <tr>\n",
       "      <th>1207</th>\n",
       "      <td>NDP41</td>\n",
       "      <td>13.650</td>\n",
       "      <td>Area035</td>\n",
       "      <td>2002</td>\n",
       "      <td>67.3246</td>\n",
       "      <td>Cardiac</td>\n",
       "      <td>mild</td>\n",
       "      <td>0.039676</td>\n",
       "      <td>DownTown</td>\n",
       "      <td>Tier 2</td>\n",
       "      <td>Small</td>\n",
       "    </tr>\n",
       "    <tr>\n",
       "      <th>826</th>\n",
       "      <td>PNK10</td>\n",
       "      <td>6.105</td>\n",
       "      <td>Area013</td>\n",
       "      <td>1985</td>\n",
       "      <td>137.0704</td>\n",
       "      <td>Antipyretics</td>\n",
       "      <td>critical</td>\n",
       "      <td>0.050668</td>\n",
       "      <td>DownTown</td>\n",
       "      <td>Tier 3</td>\n",
       "      <td>High</td>\n",
       "    </tr>\n",
       "    <tr>\n",
       "      <th>796</th>\n",
       "      <td>WZF50</td>\n",
       "      <td>22.150</td>\n",
       "      <td>Area049</td>\n",
       "      <td>1997</td>\n",
       "      <td>206.4452</td>\n",
       "      <td>Hreplacements</td>\n",
       "      <td>mild</td>\n",
       "      <td>0.134439</td>\n",
       "      <td>DownTown</td>\n",
       "      <td>Tier 1</td>\n",
       "      <td>Medium</td>\n",
       "    </tr>\n",
       "    <tr>\n",
       "      <th>717</th>\n",
       "      <td>QKH44</td>\n",
       "      <td>9.600</td>\n",
       "      <td>Area049</td>\n",
       "      <td>1997</td>\n",
       "      <td>46.5506</td>\n",
       "      <td>Antibiotics</td>\n",
       "      <td>mild</td>\n",
       "      <td>0.048409</td>\n",
       "      <td>DownTown</td>\n",
       "      <td>Tier 1</td>\n",
       "      <td>Medium</td>\n",
       "    </tr>\n",
       "    <tr>\n",
       "      <th>323</th>\n",
       "      <td>XFX12</td>\n",
       "      <td>9.915</td>\n",
       "      <td>Area035</td>\n",
       "      <td>2002</td>\n",
       "      <td>106.2436</td>\n",
       "      <td>Antibiotics</td>\n",
       "      <td>mild</td>\n",
       "      <td>0.129227</td>\n",
       "      <td>DownTown</td>\n",
       "      <td>Tier 2</td>\n",
       "      <td>Small</td>\n",
       "    </tr>\n",
       "  </tbody>\n",
       "</table>\n",
       "</div>"
      ],
      "text/plain": [
       "     Medicine_ID  Counterfeit_Weight DistArea_ID  Active_Since  Medicine_MRP  \\\n",
       "1215       HJY10              13.950     Area010          1996       63.8324   \n",
       "1322       CZV11              13.450     Area035          2002      129.5440   \n",
       "958        IMO12              14.800     Area018          2007       68.9562   \n",
       "269        STR65                 NaN     Area027          1983      122.3202   \n",
       "829        MXK51              11.195     Area018          2007      128.1492   \n",
       "1207       NDP41              13.650     Area035          2002       67.3246   \n",
       "826        PNK10               6.105     Area013          1985      137.0704   \n",
       "796        WZF50              22.150     Area049          1997      206.4452   \n",
       "717        QKH44               9.600     Area049          1997       46.5506   \n",
       "323        XFX12               9.915     Area035          2002      106.2436   \n",
       "\n",
       "        Medicine_Type SidEffect_Level  Availability_rating  \\\n",
       "1215     Antimalarial            mild             0.129203   \n",
       "1322       Antifungal            mild             0.013000   \n",
       "958      Antipyretics        critical             0.081149   \n",
       "269   MuscleRelaxants            mild             0.060008   \n",
       "829           Cardiac        critical             0.041838   \n",
       "1207          Cardiac            mild             0.039676   \n",
       "826      Antipyretics        critical             0.050668   \n",
       "796     Hreplacements            mild             0.134439   \n",
       "717       Antibiotics            mild             0.048409   \n",
       "323       Antibiotics            mild             0.129227   \n",
       "\n",
       "               Area_Type Area_City_Type Area_dist_level  \n",
       "1215  MidTownResidential         Tier 3         Unknown  \n",
       "1322            DownTown         Tier 2           Small  \n",
       "958           Industrial         Tier 3          Medium  \n",
       "269           CityLimits         Tier 3          Medium  \n",
       "829           Industrial         Tier 3          Medium  \n",
       "1207            DownTown         Tier 2           Small  \n",
       "826             DownTown         Tier 3            High  \n",
       "796             DownTown         Tier 1          Medium  \n",
       "717             DownTown         Tier 1          Medium  \n",
       "323             DownTown         Tier 2           Small  "
      ]
     },
     "execution_count": 11,
     "metadata": {},
     "output_type": "execute_result"
    }
   ],
   "source": [
    "test.sample(10)"
   ]
  },
  {
   "cell_type": "code",
   "execution_count": 12,
   "metadata": {},
   "outputs": [
    {
     "data": {
      "text/html": [
       "<div>\n",
       "<style scoped>\n",
       "    .dataframe tbody tr th:only-of-type {\n",
       "        vertical-align: middle;\n",
       "    }\n",
       "\n",
       "    .dataframe tbody tr th {\n",
       "        vertical-align: top;\n",
       "    }\n",
       "\n",
       "    .dataframe thead th {\n",
       "        text-align: right;\n",
       "    }\n",
       "</style>\n",
       "<table border=\"1\" class=\"dataframe\">\n",
       "  <thead>\n",
       "    <tr style=\"text-align: right;\">\n",
       "      <th></th>\n",
       "      <th>Counterfeit_Weight</th>\n",
       "      <th>Active_Since</th>\n",
       "      <th>Medicine_MRP</th>\n",
       "      <th>Availability_rating</th>\n",
       "      <th>Counterfeit_Sales</th>\n",
       "    </tr>\n",
       "  </thead>\n",
       "  <tbody>\n",
       "    <tr>\n",
       "      <th>count</th>\n",
       "      <td>5652.000000</td>\n",
       "      <td>6818.000000</td>\n",
       "      <td>6818.000000</td>\n",
       "      <td>6818.000000</td>\n",
       "      <td>6818.000000</td>\n",
       "    </tr>\n",
       "    <tr>\n",
       "      <th>mean</th>\n",
       "      <td>14.115057</td>\n",
       "      <td>1995.836316</td>\n",
       "      <td>151.401518</td>\n",
       "      <td>0.079174</td>\n",
       "      <td>2280.583480</td>\n",
       "    </tr>\n",
       "    <tr>\n",
       "      <th>std</th>\n",
       "      <td>4.649668</td>\n",
       "      <td>8.368979</td>\n",
       "      <td>62.203961</td>\n",
       "      <td>0.051481</td>\n",
       "      <td>1693.354404</td>\n",
       "    </tr>\n",
       "    <tr>\n",
       "      <th>min</th>\n",
       "      <td>5.855000</td>\n",
       "      <td>1983.000000</td>\n",
       "      <td>41.790000</td>\n",
       "      <td>0.013000</td>\n",
       "      <td>146.290000</td>\n",
       "    </tr>\n",
       "    <tr>\n",
       "      <th>25%</th>\n",
       "      <td>9.995000</td>\n",
       "      <td>1985.000000</td>\n",
       "      <td>104.509400</td>\n",
       "      <td>0.040058</td>\n",
       "      <td>933.265600</td>\n",
       "    </tr>\n",
       "    <tr>\n",
       "      <th>50%</th>\n",
       "      <td>13.800000</td>\n",
       "      <td>1997.000000</td>\n",
       "      <td>153.195700</td>\n",
       "      <td>0.066955</td>\n",
       "      <td>1902.670400</td>\n",
       "    </tr>\n",
       "    <tr>\n",
       "      <th>75%</th>\n",
       "      <td>18.050000</td>\n",
       "      <td>2002.000000</td>\n",
       "      <td>196.148350</td>\n",
       "      <td>0.107697</td>\n",
       "      <td>3207.638400</td>\n",
       "    </tr>\n",
       "    <tr>\n",
       "      <th>max</th>\n",
       "      <td>22.650000</td>\n",
       "      <td>2007.000000</td>\n",
       "      <td>277.188400</td>\n",
       "      <td>0.341391</td>\n",
       "      <td>13199.964800</td>\n",
       "    </tr>\n",
       "  </tbody>\n",
       "</table>\n",
       "</div>"
      ],
      "text/plain": [
       "       Counterfeit_Weight  Active_Since  Medicine_MRP  Availability_rating  \\\n",
       "count         5652.000000   6818.000000   6818.000000          6818.000000   \n",
       "mean            14.115057   1995.836316    151.401518             0.079174   \n",
       "std              4.649668      8.368979     62.203961             0.051481   \n",
       "min              5.855000   1983.000000     41.790000             0.013000   \n",
       "25%              9.995000   1985.000000    104.509400             0.040058   \n",
       "50%             13.800000   1997.000000    153.195700             0.066955   \n",
       "75%             18.050000   2002.000000    196.148350             0.107697   \n",
       "max             22.650000   2007.000000    277.188400             0.341391   \n",
       "\n",
       "       Counterfeit_Sales  \n",
       "count        6818.000000  \n",
       "mean         2280.583480  \n",
       "std          1693.354404  \n",
       "min           146.290000  \n",
       "25%           933.265600  \n",
       "50%          1902.670400  \n",
       "75%          3207.638400  \n",
       "max         13199.964800  "
      ]
     },
     "execution_count": 12,
     "metadata": {},
     "output_type": "execute_result"
    }
   ],
   "source": [
    "train.describe()"
   ]
  },
  {
   "cell_type": "code",
   "execution_count": 13,
   "metadata": {},
   "outputs": [
    {
     "data": {
      "text/html": [
       "<div>\n",
       "<style scoped>\n",
       "    .dataframe tbody tr th:only-of-type {\n",
       "        vertical-align: middle;\n",
       "    }\n",
       "\n",
       "    .dataframe tbody tr th {\n",
       "        vertical-align: top;\n",
       "    }\n",
       "\n",
       "    .dataframe thead th {\n",
       "        text-align: right;\n",
       "    }\n",
       "</style>\n",
       "<table border=\"1\" class=\"dataframe\">\n",
       "  <thead>\n",
       "    <tr style=\"text-align: right;\">\n",
       "      <th></th>\n",
       "      <th>Counterfeit_Weight</th>\n",
       "      <th>Active_Since</th>\n",
       "      <th>Medicine_MRP</th>\n",
       "      <th>Availability_rating</th>\n",
       "    </tr>\n",
       "  </thead>\n",
       "  <tbody>\n",
       "    <tr>\n",
       "      <th>count</th>\n",
       "      <td>1408.000000</td>\n",
       "      <td>1705.000000</td>\n",
       "      <td>1705.000000</td>\n",
       "      <td>1705.000000</td>\n",
       "    </tr>\n",
       "    <tr>\n",
       "      <th>mean</th>\n",
       "      <td>14.328604</td>\n",
       "      <td>1995.814076</td>\n",
       "      <td>150.857964</td>\n",
       "      <td>0.078963</td>\n",
       "    </tr>\n",
       "    <tr>\n",
       "      <th>std</th>\n",
       "      <td>4.616129</td>\n",
       "      <td>8.385310</td>\n",
       "      <td>62.575018</td>\n",
       "      <td>0.052076</td>\n",
       "    </tr>\n",
       "    <tr>\n",
       "      <th>min</th>\n",
       "      <td>5.855000</td>\n",
       "      <td>1983.000000</td>\n",
       "      <td>41.590000</td>\n",
       "      <td>0.013000</td>\n",
       "    </tr>\n",
       "    <tr>\n",
       "      <th>25%</th>\n",
       "      <td>10.300000</td>\n",
       "      <td>1985.000000</td>\n",
       "      <td>102.880400</td>\n",
       "      <td>0.039831</td>\n",
       "    </tr>\n",
       "    <tr>\n",
       "      <th>50%</th>\n",
       "      <td>14.300000</td>\n",
       "      <td>1997.000000</td>\n",
       "      <td>153.715400</td>\n",
       "      <td>0.066693</td>\n",
       "    </tr>\n",
       "    <tr>\n",
       "      <th>75%</th>\n",
       "      <td>18.300000</td>\n",
       "      <td>2002.000000</td>\n",
       "      <td>195.389800</td>\n",
       "      <td>0.107220</td>\n",
       "    </tr>\n",
       "    <tr>\n",
       "      <th>max</th>\n",
       "      <td>22.650000</td>\n",
       "      <td>2007.000000</td>\n",
       "      <td>277.188400</td>\n",
       "      <td>0.324090</td>\n",
       "    </tr>\n",
       "  </tbody>\n",
       "</table>\n",
       "</div>"
      ],
      "text/plain": [
       "       Counterfeit_Weight  Active_Since  Medicine_MRP  Availability_rating\n",
       "count         1408.000000   1705.000000   1705.000000          1705.000000\n",
       "mean            14.328604   1995.814076    150.857964             0.078963\n",
       "std              4.616129      8.385310     62.575018             0.052076\n",
       "min              5.855000   1983.000000     41.590000             0.013000\n",
       "25%             10.300000   1985.000000    102.880400             0.039831\n",
       "50%             14.300000   1997.000000    153.715400             0.066693\n",
       "75%             18.300000   2002.000000    195.389800             0.107220\n",
       "max             22.650000   2007.000000    277.188400             0.324090"
      ]
     },
     "execution_count": 13,
     "metadata": {},
     "output_type": "execute_result"
    }
   ],
   "source": [
    "test.describe()"
   ]
  },
  {
   "cell_type": "code",
   "execution_count": 14,
   "metadata": {},
   "outputs": [
    {
     "data": {
      "text/html": [
       "<div>\n",
       "<style scoped>\n",
       "    .dataframe tbody tr th:only-of-type {\n",
       "        vertical-align: middle;\n",
       "    }\n",
       "\n",
       "    .dataframe tbody tr th {\n",
       "        vertical-align: top;\n",
       "    }\n",
       "\n",
       "    .dataframe thead th {\n",
       "        text-align: right;\n",
       "    }\n",
       "</style>\n",
       "<table border=\"1\" class=\"dataframe\">\n",
       "  <thead>\n",
       "    <tr style=\"text-align: right;\">\n",
       "      <th></th>\n",
       "      <th>Total</th>\n",
       "      <th>Percentage</th>\n",
       "    </tr>\n",
       "  </thead>\n",
       "  <tbody>\n",
       "    <tr>\n",
       "      <th>Counterfeit_Weight</th>\n",
       "      <td>1166</td>\n",
       "      <td>17.1</td>\n",
       "    </tr>\n",
       "  </tbody>\n",
       "</table>\n",
       "</div>"
      ],
      "text/plain": [
       "                    Total  Percentage\n",
       "Counterfeit_Weight   1166        17.1"
      ]
     },
     "execution_count": 14,
     "metadata": {},
     "output_type": "execute_result"
    }
   ],
   "source": [
    "missing_percentage(train)"
   ]
  },
  {
   "cell_type": "code",
   "execution_count": 15,
   "metadata": {},
   "outputs": [
    {
     "data": {
      "text/html": [
       "<div>\n",
       "<style scoped>\n",
       "    .dataframe tbody tr th:only-of-type {\n",
       "        vertical-align: middle;\n",
       "    }\n",
       "\n",
       "    .dataframe tbody tr th {\n",
       "        vertical-align: top;\n",
       "    }\n",
       "\n",
       "    .dataframe thead th {\n",
       "        text-align: right;\n",
       "    }\n",
       "</style>\n",
       "<table border=\"1\" class=\"dataframe\">\n",
       "  <thead>\n",
       "    <tr style=\"text-align: right;\">\n",
       "      <th></th>\n",
       "      <th>Total</th>\n",
       "      <th>Percentage</th>\n",
       "    </tr>\n",
       "  </thead>\n",
       "  <tbody>\n",
       "    <tr>\n",
       "      <th>Counterfeit_Weight</th>\n",
       "      <td>297</td>\n",
       "      <td>4.36</td>\n",
       "    </tr>\n",
       "  </tbody>\n",
       "</table>\n",
       "</div>"
      ],
      "text/plain": [
       "                    Total  Percentage\n",
       "Counterfeit_Weight    297        4.36"
      ]
     },
     "execution_count": 15,
     "metadata": {},
     "output_type": "execute_result"
    }
   ],
   "source": [
    "missing_percentage(test)"
   ]
  },
  {
   "cell_type": "code",
   "execution_count": 16,
   "metadata": {},
   "outputs": [
    {
     "data": {
      "text/plain": [
       "Medicine_ID            1557\n",
       "Counterfeit_Weight      415\n",
       "DistArea_ID              10\n",
       "Active_Since              9\n",
       "Medicine_MRP           5097\n",
       "Medicine_Type            16\n",
       "SidEffect_Level           2\n",
       "Availability_rating    6317\n",
       "Area_Type                 4\n",
       "Area_City_Type            3\n",
       "Area_dist_level           4\n",
       "Counterfeit_Sales      3142\n",
       "dtype: int64"
      ]
     },
     "execution_count": 16,
     "metadata": {},
     "output_type": "execute_result"
    }
   ],
   "source": [
    "train.nunique(dropna=False)"
   ]
  },
  {
   "cell_type": "code",
   "execution_count": 17,
   "metadata": {},
   "outputs": [
    {
     "data": {
      "text/plain": [
       "Medicine_ID            1049\n",
       "Counterfeit_Weight      326\n",
       "DistArea_ID              10\n",
       "Active_Since              9\n",
       "Medicine_MRP           1580\n",
       "Medicine_Type            16\n",
       "SidEffect_Level           2\n",
       "Availability_rating    1588\n",
       "Area_Type                 4\n",
       "Area_City_Type            3\n",
       "Area_dist_level           4\n",
       "dtype: int64"
      ]
     },
     "execution_count": 17,
     "metadata": {},
     "output_type": "execute_result"
    }
   ],
   "source": [
    "test.nunique(dropna=False)"
   ]
  },
  {
   "cell_type": "markdown",
   "metadata": {},
   "source": [
    "## Value counts and Percentage of Categorical Features of Train set"
   ]
  },
  {
   "cell_type": "code",
   "execution_count": 18,
   "metadata": {},
   "outputs": [
    {
     "data": {
      "text/html": [
       "<div>\n",
       "<style scoped>\n",
       "    .dataframe tbody tr th:only-of-type {\n",
       "        vertical-align: middle;\n",
       "    }\n",
       "\n",
       "    .dataframe tbody tr th {\n",
       "        vertical-align: top;\n",
       "    }\n",
       "\n",
       "    .dataframe thead th {\n",
       "        text-align: right;\n",
       "    }\n",
       "</style>\n",
       "<table border=\"1\" class=\"dataframe\">\n",
       "  <thead>\n",
       "    <tr style=\"text-align: right;\">\n",
       "      <th></th>\n",
       "      <th>Total</th>\n",
       "      <th>Percentage</th>\n",
       "    </tr>\n",
       "  </thead>\n",
       "  <tbody>\n",
       "    <tr>\n",
       "      <th>Area017</th>\n",
       "      <td>760</td>\n",
       "      <td>11.15</td>\n",
       "    </tr>\n",
       "    <tr>\n",
       "      <th>Area013</th>\n",
       "      <td>749</td>\n",
       "      <td>10.99</td>\n",
       "    </tr>\n",
       "    <tr>\n",
       "      <th>Area046</th>\n",
       "      <td>749</td>\n",
       "      <td>10.99</td>\n",
       "    </tr>\n",
       "    <tr>\n",
       "      <th>Area035</th>\n",
       "      <td>748</td>\n",
       "      <td>10.97</td>\n",
       "    </tr>\n",
       "    <tr>\n",
       "      <th>Area049</th>\n",
       "      <td>739</td>\n",
       "      <td>10.84</td>\n",
       "    </tr>\n",
       "    <tr>\n",
       "      <th>Area045</th>\n",
       "      <td>736</td>\n",
       "      <td>10.79</td>\n",
       "    </tr>\n",
       "    <tr>\n",
       "      <th>Area027</th>\n",
       "      <td>735</td>\n",
       "      <td>10.78</td>\n",
       "    </tr>\n",
       "    <tr>\n",
       "      <th>Area018</th>\n",
       "      <td>729</td>\n",
       "      <td>10.69</td>\n",
       "    </tr>\n",
       "    <tr>\n",
       "      <th>Area010</th>\n",
       "      <td>442</td>\n",
       "      <td>6.48</td>\n",
       "    </tr>\n",
       "    <tr>\n",
       "      <th>Area019</th>\n",
       "      <td>431</td>\n",
       "      <td>6.32</td>\n",
       "    </tr>\n",
       "  </tbody>\n",
       "</table>\n",
       "</div>"
      ],
      "text/plain": [
       "         Total  Percentage\n",
       "Area017    760       11.15\n",
       "Area013    749       10.99\n",
       "Area046    749       10.99\n",
       "Area035    748       10.97\n",
       "Area049    739       10.84\n",
       "Area045    736       10.79\n",
       "Area027    735       10.78\n",
       "Area018    729       10.69\n",
       "Area010    442        6.48\n",
       "Area019    431        6.32"
      ]
     },
     "execution_count": 18,
     "metadata": {},
     "output_type": "execute_result"
    }
   ],
   "source": [
    "value_count_percentage(train, 'DistArea_ID')"
   ]
  },
  {
   "cell_type": "markdown",
   "metadata": {},
   "source": [
    "Categorical : Nominal variable : **DistArea_ID**\n",
    "\n",
    "there are 10 categories in this feature, and Area010 & Area019 have 4% less sales all other Areas have same % of Sale"
   ]
  },
  {
   "cell_type": "code",
   "execution_count": 19,
   "metadata": {},
   "outputs": [
    {
     "data": {
      "text/html": [
       "<div>\n",
       "<style scoped>\n",
       "    .dataframe tbody tr th:only-of-type {\n",
       "        vertical-align: middle;\n",
       "    }\n",
       "\n",
       "    .dataframe tbody tr th {\n",
       "        vertical-align: top;\n",
       "    }\n",
       "\n",
       "    .dataframe thead th {\n",
       "        text-align: right;\n",
       "    }\n",
       "</style>\n",
       "<table border=\"1\" class=\"dataframe\">\n",
       "  <thead>\n",
       "    <tr style=\"text-align: right;\">\n",
       "      <th></th>\n",
       "      <th>Total</th>\n",
       "      <th>Percentage</th>\n",
       "    </tr>\n",
       "  </thead>\n",
       "  <tbody>\n",
       "    <tr>\n",
       "      <th>1983</th>\n",
       "      <td>1166</td>\n",
       "      <td>17.10</td>\n",
       "    </tr>\n",
       "    <tr>\n",
       "      <th>2005</th>\n",
       "      <td>760</td>\n",
       "      <td>11.15</td>\n",
       "    </tr>\n",
       "    <tr>\n",
       "      <th>1985</th>\n",
       "      <td>749</td>\n",
       "      <td>10.99</td>\n",
       "    </tr>\n",
       "    <tr>\n",
       "      <th>1995</th>\n",
       "      <td>749</td>\n",
       "      <td>10.99</td>\n",
       "    </tr>\n",
       "    <tr>\n",
       "      <th>2002</th>\n",
       "      <td>748</td>\n",
       "      <td>10.97</td>\n",
       "    </tr>\n",
       "    <tr>\n",
       "      <th>1997</th>\n",
       "      <td>739</td>\n",
       "      <td>10.84</td>\n",
       "    </tr>\n",
       "    <tr>\n",
       "      <th>2000</th>\n",
       "      <td>736</td>\n",
       "      <td>10.79</td>\n",
       "    </tr>\n",
       "    <tr>\n",
       "      <th>2007</th>\n",
       "      <td>729</td>\n",
       "      <td>10.69</td>\n",
       "    </tr>\n",
       "    <tr>\n",
       "      <th>1996</th>\n",
       "      <td>442</td>\n",
       "      <td>6.48</td>\n",
       "    </tr>\n",
       "  </tbody>\n",
       "</table>\n",
       "</div>"
      ],
      "text/plain": [
       "      Total  Percentage\n",
       "1983   1166       17.10\n",
       "2005    760       11.15\n",
       "1985    749       10.99\n",
       "1995    749       10.99\n",
       "2002    748       10.97\n",
       "1997    739       10.84\n",
       "2000    736       10.79\n",
       "2007    729       10.69\n",
       "1996    442        6.48"
      ]
     },
     "execution_count": 19,
     "metadata": {},
     "output_type": "execute_result"
    }
   ],
   "source": [
    "value_count_percentage(train, 'Active_Since')"
   ]
  },
  {
   "cell_type": "markdown",
   "metadata": {},
   "source": [
    "Categorical : Ordinal Variable : **Active_Since**\n",
    "\n",
    "there are 9 categories in this features, couterfeit sale is active from 1983 means it has more medicine sale, in other year like 2005, 1985, etc have same sale , but 1996 have only 6.5% sales"
   ]
  },
  {
   "cell_type": "code",
   "execution_count": 20,
   "metadata": {},
   "outputs": [
    {
     "data": {
      "text/html": [
       "<div>\n",
       "<style scoped>\n",
       "    .dataframe tbody tr th:only-of-type {\n",
       "        vertical-align: middle;\n",
       "    }\n",
       "\n",
       "    .dataframe tbody tr th {\n",
       "        vertical-align: top;\n",
       "    }\n",
       "\n",
       "    .dataframe thead th {\n",
       "        text-align: right;\n",
       "    }\n",
       "</style>\n",
       "<table border=\"1\" class=\"dataframe\">\n",
       "  <thead>\n",
       "    <tr style=\"text-align: right;\">\n",
       "      <th></th>\n",
       "      <th>Total</th>\n",
       "      <th>Percentage</th>\n",
       "    </tr>\n",
       "  </thead>\n",
       "  <tbody>\n",
       "    <tr>\n",
       "      <th>Hreplacements</th>\n",
       "      <td>976</td>\n",
       "      <td>14.32</td>\n",
       "    </tr>\n",
       "    <tr>\n",
       "      <th>Antibiotics</th>\n",
       "      <td>970</td>\n",
       "      <td>14.23</td>\n",
       "    </tr>\n",
       "    <tr>\n",
       "      <th>Antiseptics</th>\n",
       "      <td>724</td>\n",
       "      <td>10.62</td>\n",
       "    </tr>\n",
       "    <tr>\n",
       "      <th>OralContraceptives</th>\n",
       "      <td>694</td>\n",
       "      <td>10.18</td>\n",
       "    </tr>\n",
       "    <tr>\n",
       "      <th>Antipyretics</th>\n",
       "      <td>536</td>\n",
       "      <td>7.86</td>\n",
       "    </tr>\n",
       "    <tr>\n",
       "      <th>Cardiac</th>\n",
       "      <td>522</td>\n",
       "      <td>7.66</td>\n",
       "    </tr>\n",
       "    <tr>\n",
       "      <th>Mstablizers</th>\n",
       "      <td>514</td>\n",
       "      <td>7.54</td>\n",
       "    </tr>\n",
       "    <tr>\n",
       "      <th>Tranquilizers</th>\n",
       "      <td>420</td>\n",
       "      <td>6.16</td>\n",
       "    </tr>\n",
       "    <tr>\n",
       "      <th>Analgesics</th>\n",
       "      <td>356</td>\n",
       "      <td>5.22</td>\n",
       "    </tr>\n",
       "    <tr>\n",
       "      <th>Antimalarial</th>\n",
       "      <td>339</td>\n",
       "      <td>4.97</td>\n",
       "    </tr>\n",
       "    <tr>\n",
       "      <th>Antacids</th>\n",
       "      <td>206</td>\n",
       "      <td>3.02</td>\n",
       "    </tr>\n",
       "    <tr>\n",
       "      <th>Statins</th>\n",
       "      <td>167</td>\n",
       "      <td>2.45</td>\n",
       "    </tr>\n",
       "    <tr>\n",
       "      <th>MuscleRelaxants</th>\n",
       "      <td>139</td>\n",
       "      <td>2.04</td>\n",
       "    </tr>\n",
       "    <tr>\n",
       "      <th>Antifungal</th>\n",
       "      <td>111</td>\n",
       "      <td>1.63</td>\n",
       "    </tr>\n",
       "    <tr>\n",
       "      <th>Stimulants</th>\n",
       "      <td>95</td>\n",
       "      <td>1.39</td>\n",
       "    </tr>\n",
       "    <tr>\n",
       "      <th>Antiviral</th>\n",
       "      <td>49</td>\n",
       "      <td>0.72</td>\n",
       "    </tr>\n",
       "  </tbody>\n",
       "</table>\n",
       "</div>"
      ],
      "text/plain": [
       "                    Total  Percentage\n",
       "Hreplacements         976       14.32\n",
       "Antibiotics           970       14.23\n",
       "Antiseptics           724       10.62\n",
       "OralContraceptives    694       10.18\n",
       "Antipyretics          536        7.86\n",
       "Cardiac               522        7.66\n",
       "Mstablizers           514        7.54\n",
       "Tranquilizers         420        6.16\n",
       "Analgesics            356        5.22\n",
       "Antimalarial          339        4.97\n",
       "Antacids              206        3.02\n",
       "Statins               167        2.45\n",
       "MuscleRelaxants       139        2.04\n",
       "Antifungal            111        1.63\n",
       "Stimulants             95        1.39\n",
       "Antiviral              49        0.72"
      ]
     },
     "execution_count": 20,
     "metadata": {},
     "output_type": "execute_result"
    }
   ],
   "source": [
    "value_count_percentage(train,'Medicine_Type')"
   ]
  },
  {
   "cell_type": "markdown",
   "metadata": {},
   "source": [
    "Categorical : Nominal Varialble : **Medicine_Type**\n",
    "\n",
    "* We can see that 14% of sale of Hreplacements & Antibiotics \n",
    "* Antiseptics and OralContraceptives around 10-11% of sale \n",
    "* that means these medicines are selling more in market and need of these medicines are also more as compared to others"
   ]
  },
  {
   "cell_type": "code",
   "execution_count": 21,
   "metadata": {},
   "outputs": [
    {
     "data": {
      "text/html": [
       "<div>\n",
       "<style scoped>\n",
       "    .dataframe tbody tr th:only-of-type {\n",
       "        vertical-align: middle;\n",
       "    }\n",
       "\n",
       "    .dataframe tbody tr th {\n",
       "        vertical-align: top;\n",
       "    }\n",
       "\n",
       "    .dataframe thead th {\n",
       "        text-align: right;\n",
       "    }\n",
       "</style>\n",
       "<table border=\"1\" class=\"dataframe\">\n",
       "  <thead>\n",
       "    <tr style=\"text-align: right;\">\n",
       "      <th></th>\n",
       "      <th>Total</th>\n",
       "      <th>Percentage</th>\n",
       "    </tr>\n",
       "  </thead>\n",
       "  <tbody>\n",
       "    <tr>\n",
       "      <th>mild</th>\n",
       "      <td>4434</td>\n",
       "      <td>65.03</td>\n",
       "    </tr>\n",
       "    <tr>\n",
       "      <th>critical</th>\n",
       "      <td>2384</td>\n",
       "      <td>34.97</td>\n",
       "    </tr>\n",
       "  </tbody>\n",
       "</table>\n",
       "</div>"
      ],
      "text/plain": [
       "          Total  Percentage\n",
       "mild       4434       65.03\n",
       "critical   2384       34.97"
      ]
     },
     "execution_count": 21,
     "metadata": {},
     "output_type": "execute_result"
    }
   ],
   "source": [
    "value_count_percentage(train,'SidEffect_Level')"
   ]
  },
  {
   "cell_type": "markdown",
   "metadata": {},
   "source": [
    "Categorical : Ordinal Variable : **SidEffect_Level**\n",
    "\n",
    "* these counterfeit medicines which 65% medicines have mild side effect and 35% medicines have Critical side effect "
   ]
  },
  {
   "cell_type": "code",
   "execution_count": 22,
   "metadata": {},
   "outputs": [
    {
     "data": {
      "text/html": [
       "<div>\n",
       "<style scoped>\n",
       "    .dataframe tbody tr th:only-of-type {\n",
       "        vertical-align: middle;\n",
       "    }\n",
       "\n",
       "    .dataframe tbody tr th {\n",
       "        vertical-align: top;\n",
       "    }\n",
       "\n",
       "    .dataframe thead th {\n",
       "        text-align: right;\n",
       "    }\n",
       "</style>\n",
       "<table border=\"1\" class=\"dataframe\">\n",
       "  <thead>\n",
       "    <tr style=\"text-align: right;\">\n",
       "      <th></th>\n",
       "      <th>Total</th>\n",
       "      <th>Percentage</th>\n",
       "    </tr>\n",
       "  </thead>\n",
       "  <tbody>\n",
       "    <tr>\n",
       "      <th>DownTown</th>\n",
       "      <td>4481</td>\n",
       "      <td>65.72</td>\n",
       "    </tr>\n",
       "    <tr>\n",
       "      <th>MidTownResidential</th>\n",
       "      <td>873</td>\n",
       "      <td>12.80</td>\n",
       "    </tr>\n",
       "    <tr>\n",
       "      <th>CityLimits</th>\n",
       "      <td>735</td>\n",
       "      <td>10.78</td>\n",
       "    </tr>\n",
       "    <tr>\n",
       "      <th>Industrial</th>\n",
       "      <td>729</td>\n",
       "      <td>10.69</td>\n",
       "    </tr>\n",
       "  </tbody>\n",
       "</table>\n",
       "</div>"
      ],
      "text/plain": [
       "                    Total  Percentage\n",
       "DownTown             4481       65.72\n",
       "MidTownResidential    873       12.80\n",
       "CityLimits            735       10.78\n",
       "Industrial            729       10.69"
      ]
     },
     "execution_count": 22,
     "metadata": {},
     "output_type": "execute_result"
    }
   ],
   "source": [
    "value_count_percentage(train,'Area_Type')"
   ]
  },
  {
   "cell_type": "markdown",
   "metadata": {},
   "source": [
    "Categorical : Nominal Variable : **Area_Type**\n",
    "* In Area type **DownTown** 65% have sold counterfeit medicines"
   ]
  },
  {
   "cell_type": "code",
   "execution_count": 23,
   "metadata": {},
   "outputs": [
    {
     "data": {
      "text/html": [
       "<div>\n",
       "<style scoped>\n",
       "    .dataframe tbody tr th:only-of-type {\n",
       "        vertical-align: middle;\n",
       "    }\n",
       "\n",
       "    .dataframe tbody tr th {\n",
       "        vertical-align: top;\n",
       "    }\n",
       "\n",
       "    .dataframe thead th {\n",
       "        text-align: right;\n",
       "    }\n",
       "</style>\n",
       "<table border=\"1\" class=\"dataframe\">\n",
       "  <thead>\n",
       "    <tr style=\"text-align: right;\">\n",
       "      <th></th>\n",
       "      <th>Total</th>\n",
       "      <th>Percentage</th>\n",
       "    </tr>\n",
       "  </thead>\n",
       "  <tbody>\n",
       "    <tr>\n",
       "      <th>Tier 3</th>\n",
       "      <td>2655</td>\n",
       "      <td>38.94</td>\n",
       "    </tr>\n",
       "    <tr>\n",
       "      <th>Tier 2</th>\n",
       "      <td>2244</td>\n",
       "      <td>32.91</td>\n",
       "    </tr>\n",
       "    <tr>\n",
       "      <th>Tier 1</th>\n",
       "      <td>1919</td>\n",
       "      <td>28.15</td>\n",
       "    </tr>\n",
       "  </tbody>\n",
       "</table>\n",
       "</div>"
      ],
      "text/plain": [
       "        Total  Percentage\n",
       "Tier 3   2655       38.94\n",
       "Tier 2   2244       32.91\n",
       "Tier 1   1919       28.15"
      ]
     },
     "execution_count": 23,
     "metadata": {},
     "output_type": "execute_result"
    }
   ],
   "source": [
    "value_count_percentage(train,'Area_City_Type')"
   ]
  },
  {
   "cell_type": "markdown",
   "metadata": {},
   "source": [
    "Categorical : Ordinal Variable : **Area_City_Type**\n",
    "* Tier 3 have highest sales around 39% \n",
    "* Tier 2 and 3 have 33% & 28% sale "
   ]
  },
  {
   "cell_type": "code",
   "execution_count": 24,
   "metadata": {},
   "outputs": [
    {
     "data": {
      "text/html": [
       "<div>\n",
       "<style scoped>\n",
       "    .dataframe tbody tr th:only-of-type {\n",
       "        vertical-align: middle;\n",
       "    }\n",
       "\n",
       "    .dataframe tbody tr th {\n",
       "        vertical-align: top;\n",
       "    }\n",
       "\n",
       "    .dataframe thead th {\n",
       "        text-align: right;\n",
       "    }\n",
       "</style>\n",
       "<table border=\"1\" class=\"dataframe\">\n",
       "  <thead>\n",
       "    <tr style=\"text-align: right;\">\n",
       "      <th></th>\n",
       "      <th>Total</th>\n",
       "      <th>Percentage</th>\n",
       "    </tr>\n",
       "  </thead>\n",
       "  <tbody>\n",
       "    <tr>\n",
       "      <th>Medium</th>\n",
       "      <td>2203</td>\n",
       "      <td>32.31</td>\n",
       "    </tr>\n",
       "    <tr>\n",
       "      <th>Unknown</th>\n",
       "      <td>1938</td>\n",
       "      <td>28.42</td>\n",
       "    </tr>\n",
       "    <tr>\n",
       "      <th>Small</th>\n",
       "      <td>1928</td>\n",
       "      <td>28.28</td>\n",
       "    </tr>\n",
       "    <tr>\n",
       "      <th>High</th>\n",
       "      <td>749</td>\n",
       "      <td>10.99</td>\n",
       "    </tr>\n",
       "  </tbody>\n",
       "</table>\n",
       "</div>"
      ],
      "text/plain": [
       "         Total  Percentage\n",
       "Medium    2203       32.31\n",
       "Unknown   1938       28.42\n",
       "Small     1928       28.28\n",
       "High       749       10.99"
      ]
     },
     "execution_count": 24,
     "metadata": {},
     "output_type": "execute_result"
    }
   ],
   "source": [
    "value_count_percentage(train,'Area_dist_level')"
   ]
  },
  {
   "cell_type": "markdown",
   "metadata": {},
   "source": [
    "Categorical : Ordinal Variable : **Area_dist_level**\n",
    "* High Area Dist level have lowest sale around 11% "
   ]
  },
  {
   "cell_type": "markdown",
   "metadata": {},
   "source": [
    "### Numerical Features "
   ]
  },
  {
   "cell_type": "markdown",
   "metadata": {},
   "source": [
    "Numerical : Continous Variable : **Counterfeit_Sales**"
   ]
  },
  {
   "cell_type": "code",
   "execution_count": 25,
   "metadata": {},
   "outputs": [
    {
     "data": {
      "image/png": "[encoded data removed]",
      "text/plain": [
       "<Figure size 432x288 with 1 Axes>"
      ]
     },
     "metadata": {
      "needs_background": "light"
     },
     "output_type": "display_data"
    }
   ],
   "source": [
    "sns.distplot(train['Counterfeit_Sales'], bins=40)\n",
    "plt.show()"
   ]
  },
  {
   "cell_type": "code",
   "execution_count": 26,
   "metadata": {},
   "outputs": [
    {
     "data": {
      "image/png": "[encoded data removed]",
      "text/plain": [
       "<Figure size 1080x432 with 1 Axes>"
      ]
     },
     "metadata": {
      "needs_background": "light"
     },
     "output_type": "display_data"
    }
   ],
   "source": [
    "plt.figure(figsize=(15,6))\n",
    "sns.boxplot(x=train.Counterfeit_Sales)\n",
    "plt.show()"
   ]
  },
  {
   "cell_type": "code",
   "execution_count": 27,
   "metadata": {},
   "outputs": [
    {
     "data": {
      "text/plain": [
       "Index(['Medicine_ID', 'Counterfeit_Weight', 'DistArea_ID', 'Active_Since',\n",
       "       'Medicine_MRP', 'Medicine_Type', 'SidEffect_Level',\n",
       "       'Availability_rating', 'Area_Type', 'Area_City_Type', 'Area_dist_level',\n",
       "       'Counterfeit_Sales'],\n",
       "      dtype='object')"
      ]
     },
     "execution_count": 27,
     "metadata": {},
     "output_type": "execute_result"
    }
   ],
   "source": [
    "train.columns"
   ]
  },
  {
   "cell_type": "code",
   "execution_count": 28,
   "metadata": {},
   "outputs": [
    {
     "data": {
      "image/png": "[encoded data removed]",
      "text/plain": [
       "<Figure size 1296x576 with 1 Axes>"
      ]
     },
     "metadata": {
      "needs_background": "light"
     },
     "output_type": "display_data"
    }
   ],
   "source": [
    "plt.figure(figsize=(18,8))\n",
    "sns.boxplot(data=train, x='Active_Since', y='Counterfeit_Sales')\n",
    "plt.xticks(rotation=90)\n",
    "plt.show()"
   ]
  },
  {
   "cell_type": "code",
   "execution_count": 29,
   "metadata": {},
   "outputs": [
    {
     "data": {
      "image/png": "[encoded data removed]",
      "text/plain": [
       "<Figure size 1296x576 with 1 Axes>"
      ]
     },
     "metadata": {
      "needs_background": "light"
     },
     "output_type": "display_data"
    }
   ],
   "source": [
    "plt.figure(figsize=(18,8))\n",
    "sns.boxplot(data=train, x='DistArea_ID', y='Counterfeit_Weight',hue='Area_Type')\n",
    "plt.xticks(rotation=90)\n",
    "plt.show()"
   ]
  },
  {
   "cell_type": "code",
   "execution_count": 30,
   "metadata": {},
   "outputs": [
    {
     "data": {
      "image/png": "[encoded data removed]",
      "text/plain": [
       "<Figure size 1296x576 with 1 Axes>"
      ]
     },
     "metadata": {
      "needs_background": "light"
     },
     "output_type": "display_data"
    }
   ],
   "source": [
    "plt.figure(figsize=(18,8))\n",
    "sns.boxplot(data=train, x='Medicine_Type', y='Counterfeit_Sales', hue='SidEffect_Level')\n",
    "plt.xticks(rotation=90)\n",
    "plt.show()"
   ]
  },
  {
   "cell_type": "code",
   "execution_count": 31,
   "metadata": {},
   "outputs": [
    {
     "data": {
      "text/plain": [
       "1      NaN\n",
       "36     NaN\n",
       "60     NaN\n",
       "65     NaN\n",
       "73     NaN\n",
       "        ..\n",
       "6757   NaN\n",
       "6767   NaN\n",
       "6770   NaN\n",
       "6774   NaN\n",
       "6791   NaN\n",
       "Name: Counterfeit_Weight, Length: 735, dtype: float64"
      ]
     },
     "execution_count": 31,
     "metadata": {},
     "output_type": "execute_result"
    }
   ],
   "source": [
    "train.loc[train.Area_Type=='CityLimits', 'Counterfeit_Weight']#.isna().sum()"
   ]
  },
  {
   "cell_type": "code",
   "execution_count": null,
   "metadata": {},
   "outputs": [],
   "source": []
  },
  {
   "cell_type": "code",
   "execution_count": 32,
   "metadata": {},
   "outputs": [
    {
     "name": "stdout",
     "output_type": "stream",
     "text": [
      "Counterfeit_Weight\n",
      "[nan]\n",
      "DistArea_ID\n",
      "['Area027' 'Area019']\n",
      "Active_Since\n",
      "[1983]\n",
      "SidEffect_Level\n",
      "['mild' 'critical']\n",
      "Area_Type\n",
      "['CityLimits' 'MidTownResidential']\n",
      "Area_City_Type\n",
      "['Tier 3' 'Tier 1']\n",
      "Area_dist_level\n",
      "['Medium' 'Small']\n"
     ]
    }
   ],
   "source": [
    "for i in train.columns:\n",
    "#     print(i)\n",
    "    if train.loc[train.Counterfeit_Weight.isna(),i].nunique(dropna=False) < 10:\n",
    "        print(i)\n",
    "        print(train.loc[train.Counterfeit_Weight.isna(),i].unique())"
   ]
  },
  {
   "cell_type": "code",
   "execution_count": null,
   "metadata": {},
   "outputs": [],
   "source": []
  },
  {
   "cell_type": "code",
   "execution_count": null,
   "metadata": {},
   "outputs": [],
   "source": []
  },
  {
   "cell_type": "markdown",
   "metadata": {},
   "source": [
    "Numerical : Continous Variable : **Counterfeit_Weight**"
   ]
  },
  {
   "cell_type": "code",
   "execution_count": 33,
   "metadata": {},
   "outputs": [
    {
     "data": {
      "image/png": "[encoded data removed]",
      "text/plain": [
       "<Figure size 432x288 with 1 Axes>"
      ]
     },
     "metadata": {
      "needs_background": "light"
     },
     "output_type": "display_data"
    }
   ],
   "source": [
    "sns.distplot(train['Counterfeit_Weight'], bins=40)\n",
    "plt.show()"
   ]
  },
  {
   "cell_type": "markdown",
   "metadata": {},
   "source": [
    "Counterfeit_Weight has around 17% missing values and here we seeing that data distribution is uniform and weight range from 5 to 25 units.  highest peak in above plot between 7_10 units \n"
   ]
  },
  {
   "cell_type": "markdown",
   "metadata": {},
   "source": [
    "Numerical : Continuous Variable : **Availability_rating**"
   ]
  },
  {
   "cell_type": "code",
   "execution_count": 34,
   "metadata": {},
   "outputs": [
    {
     "data": {
      "image/png": "[encoded data removed]",
      "text/plain": [
       "<Figure size 432x288 with 1 Axes>"
      ]
     },
     "metadata": {
      "needs_background": "light"
     },
     "output_type": "display_data"
    }
   ],
   "source": [
    "sns.distplot(np.log(train['Availability_rating']).abs())\n",
    "plt.show()"
   ]
  },
  {
   "cell_type": "code",
   "execution_count": 35,
   "metadata": {},
   "outputs": [
    {
     "data": {
      "image/png": "[encoded data removed]",
      "text/plain": [
       "<Figure size 432x288 with 1 Axes>"
      ]
     },
     "metadata": {
      "needs_background": "light"
     },
     "output_type": "display_data"
    }
   ],
   "source": [
    "sns.distplot(train['Availability_rating'])\n",
    "# nd_data = np.random.normal(train.Availability_rating.mean(), train.Availability_rating.std(), len(train))\n",
    "# sns.distplot(nd_data)\n",
    "plt.show()"
   ]
  },
  {
   "cell_type": "markdown",
   "metadata": {},
   "source": [
    "Numerical : Continuous Variable : **Medicine_MRP**"
   ]
  },
  {
   "cell_type": "code",
   "execution_count": null,
   "metadata": {},
   "outputs": [],
   "source": []
  },
  {
   "cell_type": "code",
   "execution_count": 36,
   "metadata": {},
   "outputs": [
    {
     "data": {
      "image/png": "[encoded data removed]",
      "text/plain": [
       "<Figure size 432x288 with 1 Axes>"
      ]
     },
     "metadata": {
      "needs_background": "light"
     },
     "output_type": "display_data"
    }
   ],
   "source": [
    "sns.distplot(train['Medicine_MRP'])\n",
    "plt.show()"
   ]
  },
  {
   "cell_type": "code",
   "execution_count": 37,
   "metadata": {},
   "outputs": [
    {
     "data": {
      "image/png": "[encoded data removed]",
      "text/plain": [
       "<Figure size 720x1440 with 6 Axes>"
      ]
     },
     "metadata": {
      "needs_background": "light"
     },
     "output_type": "display_data"
    }
   ],
   "source": [
    "# plt.figure()\n",
    "train.hist(figsize=(10,20))\n",
    "plt.show()"
   ]
  },
  {
   "cell_type": "code",
   "execution_count": 38,
   "metadata": {},
   "outputs": [
    {
     "data": {
      "image/png": "[encoded data removed]",
      "text/plain": [
       "<Figure size 1080x576 with 2 Axes>"
      ]
     },
     "metadata": {
      "needs_background": "light"
     },
     "output_type": "display_data"
    }
   ],
   "source": [
    "plt.figure(figsize=(15,8))\n",
    "sns.heatmap(train.corr(), annot=train.corr(), cmap='viridis')\n",
    "plt.show()"
   ]
  },
  {
   "cell_type": "code",
   "execution_count": 39,
   "metadata": {},
   "outputs": [
    {
     "name": "stdout",
     "output_type": "stream",
     "text": [
      "Antimalarial\n",
      "14.360018315018314\n",
      "Mstablizers\n",
      "13.565442890442908\n",
      "Cardiac\n",
      "13.537223502304164\n",
      "OralContraceptives\n",
      "14.075856164383532\n",
      "Hreplacements\n",
      "14.296324626865596\n",
      "Antiseptics\n",
      "14.595380794701951\n",
      "Statins\n",
      "12.662678571428566\n",
      "Analgesics\n",
      "13.034803278688543\n",
      "MuscleRelaxants\n",
      "15.197168141592925\n",
      "Antibiotics\n",
      "14.400614143920526\n",
      "Antifungal\n",
      "15.206785714285704\n",
      "Antiviral\n",
      "14.335769230769229\n",
      "Tranquilizers\n",
      "14.346177325581412\n",
      "Antacids\n",
      "12.50933734939758\n",
      "Antipyretics\n",
      "14.664712643678167\n",
      "Stimulants\n",
      "14.364358974358973\n"
     ]
    }
   ],
   "source": [
    "for i in train.Medicine_Type.unique():\n",
    "    print(i)\n",
    "    print(train.loc[(train.Counterfeit_Weight.notna()) & (train.Medicine_Type == i), 'Counterfeit_Weight'].mean())\n",
    "    train.loc[(train.Counterfeit_Weight.isna()) & (train.Medicine_Type == i), 'Counterfeit_Weight'] = train.loc[(train.Counterfeit_Weight.notna()) & (train.Medicine_Type == i), 'Counterfeit_Weight'].mean()\n",
    "    test.loc[(test.Counterfeit_Weight.isna()) & (test.Medicine_Type == i), 'Counterfeit_Weight'] = test.loc[(test.Counterfeit_Weight.notna()) & (test.Medicine_Type == i), 'Counterfeit_Weight'].mean()"
   ]
  },
  {
   "cell_type": "code",
   "execution_count": null,
   "metadata": {},
   "outputs": [],
   "source": []
  },
  {
   "cell_type": "code",
   "execution_count": null,
   "metadata": {},
   "outputs": [],
   "source": []
  },
  {
   "cell_type": "code",
   "execution_count": null,
   "metadata": {},
   "outputs": [],
   "source": []
  },
  {
   "cell_type": "code",
   "execution_count": 40,
   "metadata": {
    "scrolled": true
   },
   "outputs": [],
   "source": [
    "# median_by_med_type = train.loc[train.Counterfeit_Weight.notna()][['Medicine_Type',\n",
    "#                                                                   'Counterfeit_Weight']].groupby('Medicine_Type').median().reset_index()\n",
    "# median_by_med_type"
   ]
  },
  {
   "cell_type": "code",
   "execution_count": 41,
   "metadata": {},
   "outputs": [],
   "source": [
    "# train.loc[train.Counterfeit_Weight.notna()].groupby('Medicine_Type').mean()\n",
    "\n",
    "# .agg({'Medicine_Type': 'count'})\n"
   ]
  },
  {
   "cell_type": "code",
   "execution_count": 42,
   "metadata": {},
   "outputs": [],
   "source": [
    "# for i in median_by_med_type.Medicine_Type:\n",
    "#     print(i)\n",
    "#     print(train.loc[train.Counterfeit_Weight.isna() & train.Medicine_Type==i].shape)"
   ]
  },
  {
   "cell_type": "code",
   "execution_count": 43,
   "metadata": {},
   "outputs": [],
   "source": [
    "# train.nunique()"
   ]
  },
  {
   "cell_type": "code",
   "execution_count": null,
   "metadata": {},
   "outputs": [],
   "source": []
  },
  {
   "cell_type": "code",
   "execution_count": null,
   "metadata": {},
   "outputs": [],
   "source": []
  },
  {
   "cell_type": "code",
   "execution_count": null,
   "metadata": {},
   "outputs": [],
   "source": []
  },
  {
   "cell_type": "code",
   "execution_count": null,
   "metadata": {},
   "outputs": [],
   "source": []
  },
  {
   "cell_type": "code",
   "execution_count": 44,
   "metadata": {},
   "outputs": [],
   "source": [
    "# train.loc[train.Counterfeit_Weight.isna(), 'Counterfeit_Weight'] = train.loc[train.Counterfeit_Weight.notna(), \n",
    "#                                                                              'Counterfeit_Weight'].mean()"
   ]
  },
  {
   "cell_type": "code",
   "execution_count": 45,
   "metadata": {},
   "outputs": [
    {
     "data": {
      "text/plain": [
       "<matplotlib.axes._subplots.AxesSubplot at 0x29d1dff9148>"
      ]
     },
     "execution_count": 45,
     "metadata": {},
     "output_type": "execute_result"
    },
    {
     "data": {
      "image/png": "[encoded data removed]",
      "text/plain": [
       "<Figure size 432x288 with 1 Axes>"
      ]
     },
     "metadata": {
      "needs_background": "light"
     },
     "output_type": "display_data"
    }
   ],
   "source": [
    "sns.distplot(train.Counterfeit_Weight)"
   ]
  },
  {
   "cell_type": "code",
   "execution_count": 46,
   "metadata": {},
   "outputs": [],
   "source": [
    "# # impute mean in counterfeit_weight\n",
    "# test.loc[test.Counterfeit_Weight.isna(), 'Counterfeit_Weight'] = test.loc[test.Counterfeit_Weight.notna(), \n",
    "#                                                                              'Counterfeit_Weight'].mean()"
   ]
  },
  {
   "cell_type": "code",
   "execution_count": 47,
   "metadata": {},
   "outputs": [
    {
     "data": {
      "text/plain": [
       "<matplotlib.axes._subplots.AxesSubplot at 0x29d1db27b88>"
      ]
     },
     "execution_count": 47,
     "metadata": {},
     "output_type": "execute_result"
    },
    {
     "data": {
      "image/png": "[encoded data removed]",
      "text/plain": [
       "<Figure size 432x288 with 1 Axes>"
      ]
     },
     "metadata": {
      "needs_background": "light"
     },
     "output_type": "display_data"
    }
   ],
   "source": [
    "sns.distplot(test.Counterfeit_Weight)"
   ]
  },
  {
   "cell_type": "markdown",
   "metadata": {},
   "source": [
    "### categorical variables"
   ]
  },
  {
   "cell_type": "code",
   "execution_count": 48,
   "metadata": {},
   "outputs": [
    {
     "data": {
      "text/plain": [
       "['DistArea_ID',\n",
       " 'Active_Since',\n",
       " 'Medicine_Type',\n",
       " 'SidEffect_Level',\n",
       " 'Area_Type',\n",
       " 'Area_City_Type',\n",
       " 'Area_dist_level']"
      ]
     },
     "execution_count": 48,
     "metadata": {},
     "output_type": "execute_result"
    }
   ],
   "source": [
    "cat_cols = train.columns[train.nunique() < 25].tolist()\n",
    "cat_cols"
   ]
  },
  {
   "cell_type": "code",
   "execution_count": 49,
   "metadata": {},
   "outputs": [
    {
     "data": {
      "text/plain": [
       "['DistArea_ID', 'Medicine_Type', 'Area_Type']"
      ]
     },
     "execution_count": 49,
     "metadata": {},
     "output_type": "execute_result"
    }
   ],
   "source": [
    "nom_cat_cols = ['DistArea_ID', 'Medicine_Type', 'Area_Type']\n",
    "nom_cat_cols"
   ]
  },
  {
   "cell_type": "code",
   "execution_count": 50,
   "metadata": {},
   "outputs": [],
   "source": [
    "train_dummy_features = pd.DataFrame()\n",
    "for i in nom_cat_cols:\n",
    "# for i in cat_cols:\n",
    "    train_dummy_features = pd.concat([train_dummy_features, \n",
    "                                      pd.get_dummies(train[i], \n",
    "                                                     drop_first=True, \n",
    "                                                     prefix=i)], \n",
    "                                     axis=1)"
   ]
  },
  {
   "cell_type": "code",
   "execution_count": 51,
   "metadata": {},
   "outputs": [],
   "source": [
    "test_dummy_features = pd.DataFrame()\n",
    "for i in nom_cat_cols:\n",
    "# for i in cat_cols:\n",
    "    test_dummy_features = pd.concat([test_dummy_features, \n",
    "                                     pd.get_dummies(test[i], \n",
    "                                                    drop_first=True, \n",
    "                                                    prefix=i)], \n",
    "                                    axis=1)"
   ]
  },
  {
   "cell_type": "code",
   "execution_count": 52,
   "metadata": {},
   "outputs": [
    {
     "name": "stdout",
     "output_type": "stream",
     "text": [
      "(6818, 27)\n",
      "(1705, 27)\n"
     ]
    }
   ],
   "source": [
    "print(train_dummy_features.shape)\n",
    "print(test_dummy_features.shape)"
   ]
  },
  {
   "cell_type": "code",
   "execution_count": 53,
   "metadata": {},
   "outputs": [
    {
     "data": {
      "text/plain": [
       "['Active_Since', 'SidEffect_Level', 'Area_City_Type', 'Area_dist_level']"
      ]
     },
     "execution_count": 53,
     "metadata": {},
     "output_type": "execute_result"
    }
   ],
   "source": [
    "ord_cat_cols = ['Active_Since', 'SidEffect_Level', 'Area_City_Type', 'Area_dist_level']\n",
    "ord_cat_cols"
   ]
  },
  {
   "cell_type": "code",
   "execution_count": 54,
   "metadata": {},
   "outputs": [
    {
     "data": {
      "text/plain": [
       "{'2007': 0,\n",
       " '2005': 1,\n",
       " '2002': 2,\n",
       " '2000': 3,\n",
       " '1997': 4,\n",
       " '1996': 5,\n",
       " '1995': 6,\n",
       " '1985': 7,\n",
       " '1983': 8}"
      ]
     },
     "execution_count": 54,
     "metadata": {},
     "output_type": "execute_result"
    }
   ],
   "source": [
    "active_since_dict = {}\n",
    "for cat_num, cat in enumerate(np.sort(train.Active_Since.unique())[::-1]):\n",
    "    active_since_dict['{}'.format(cat)] = cat_num\n",
    "active_since_dict"
   ]
  },
  {
   "cell_type": "code",
   "execution_count": 55,
   "metadata": {},
   "outputs": [],
   "source": [
    "train['Active_Since'] = train['Active_Since'].astype('str')\n",
    "test['Active_Since'] = test['Active_Since'].astype('str')"
   ]
  },
  {
   "cell_type": "code",
   "execution_count": 56,
   "metadata": {},
   "outputs": [],
   "source": [
    "train['Active_Since'] = train.Active_Since.map(active_since_dict)\n",
    "test['Active_Since'] = test.Active_Since.map(active_since_dict)"
   ]
  },
  {
   "cell_type": "code",
   "execution_count": 57,
   "metadata": {},
   "outputs": [
    {
     "data": {
      "text/plain": [
       "{'mild': 0, 'critical': 1}"
      ]
     },
     "execution_count": 57,
     "metadata": {},
     "output_type": "execute_result"
    }
   ],
   "source": [
    "side_effect_level_dict = {'mild':0, 'critical':1}\n",
    "side_effect_level_dict"
   ]
  },
  {
   "cell_type": "code",
   "execution_count": 58,
   "metadata": {},
   "outputs": [],
   "source": [
    "train['SidEffect_Level'] = train.SidEffect_Level.map(side_effect_level_dict)\n",
    "test['SidEffect_Level'] = test.SidEffect_Level.map(side_effect_level_dict)"
   ]
  },
  {
   "cell_type": "code",
   "execution_count": 59,
   "metadata": {},
   "outputs": [
    {
     "data": {
      "text/plain": [
       "{'Tier 1': 2, 'Tier 3': 1, 'Tier 2': 1}"
      ]
     },
     "execution_count": 59,
     "metadata": {},
     "output_type": "execute_result"
    }
   ],
   "source": [
    "area_city_type_dict = {'Tier 1':2, 'Tier 3':1, 'Tier 2':1}\n",
    "area_city_type_dict"
   ]
  },
  {
   "cell_type": "code",
   "execution_count": 60,
   "metadata": {},
   "outputs": [],
   "source": [
    "train['Area_City_Type'] = train.Area_City_Type.map(area_city_type_dict)\n",
    "test['Area_City_Type'] = test.Area_City_Type.map(area_city_type_dict)"
   ]
  },
  {
   "cell_type": "code",
   "execution_count": 61,
   "metadata": {},
   "outputs": [],
   "source": [
    "# train"
   ]
  },
  {
   "cell_type": "code",
   "execution_count": 62,
   "metadata": {},
   "outputs": [],
   "source": [
    "# test"
   ]
  },
  {
   "cell_type": "code",
   "execution_count": 63,
   "metadata": {},
   "outputs": [
    {
     "data": {
      "text/plain": [
       "{'Unknown': 0, 'Small': 1, 'Medium': 2, 'High': 3}"
      ]
     },
     "execution_count": 63,
     "metadata": {},
     "output_type": "execute_result"
    }
   ],
   "source": [
    "area_dist_level_dict = {'Unknown':0,'Small':1, 'Medium':2, 'High':3}\n",
    "area_dist_level_dict"
   ]
  },
  {
   "cell_type": "code",
   "execution_count": 64,
   "metadata": {},
   "outputs": [],
   "source": [
    "train['Area_dist_level'] = train.Area_dist_level.map(area_dist_level_dict)\n",
    "test['Area_dist_level'] = test.Area_dist_level.map(area_dist_level_dict)"
   ]
  },
  {
   "cell_type": "code",
   "execution_count": 65,
   "metadata": {},
   "outputs": [],
   "source": [
    "# train"
   ]
  },
  {
   "cell_type": "code",
   "execution_count": 66,
   "metadata": {},
   "outputs": [],
   "source": [
    "# test"
   ]
  },
  {
   "cell_type": "code",
   "execution_count": 67,
   "metadata": {},
   "outputs": [],
   "source": [
    "train = pd.concat([train, train_dummy_features], axis=1)\n",
    "test = pd.concat([test, test_dummy_features], axis=1)"
   ]
  },
  {
   "cell_type": "code",
   "execution_count": 68,
   "metadata": {},
   "outputs": [],
   "source": [
    "# train.drop(nom_cat_cols, axis=1, inplace=True)\n",
    "# test.drop(nom_cat_cols, axis=1, inplace=True)\n",
    "\n",
    "train.drop(cat_cols, axis=1, inplace=True)\n",
    "test.drop(cat_cols, axis=1, inplace=True)"
   ]
  },
  {
   "cell_type": "code",
   "execution_count": 69,
   "metadata": {},
   "outputs": [
    {
     "data": {
      "text/html": [
       "<div>\n",
       "<style scoped>\n",
       "    .dataframe tbody tr th:only-of-type {\n",
       "        vertical-align: middle;\n",
       "    }\n",
       "\n",
       "    .dataframe tbody tr th {\n",
       "        vertical-align: top;\n",
       "    }\n",
       "\n",
       "    .dataframe thead th {\n",
       "        text-align: right;\n",
       "    }\n",
       "</style>\n",
       "<table border=\"1\" class=\"dataframe\">\n",
       "  <thead>\n",
       "    <tr style=\"text-align: right;\">\n",
       "      <th></th>\n",
       "      <th>Medicine_ID</th>\n",
       "      <th>Counterfeit_Weight</th>\n",
       "      <th>Medicine_MRP</th>\n",
       "      <th>Availability_rating</th>\n",
       "      <th>Counterfeit_Sales</th>\n",
       "      <th>DistArea_ID_Area013</th>\n",
       "      <th>DistArea_ID_Area017</th>\n",
       "      <th>DistArea_ID_Area018</th>\n",
       "      <th>DistArea_ID_Area019</th>\n",
       "      <th>DistArea_ID_Area027</th>\n",
       "      <th>...</th>\n",
       "      <th>Medicine_Type_Hreplacements</th>\n",
       "      <th>Medicine_Type_Mstablizers</th>\n",
       "      <th>Medicine_Type_MuscleRelaxants</th>\n",
       "      <th>Medicine_Type_OralContraceptives</th>\n",
       "      <th>Medicine_Type_Statins</th>\n",
       "      <th>Medicine_Type_Stimulants</th>\n",
       "      <th>Medicine_Type_Tranquilizers</th>\n",
       "      <th>Area_Type_DownTown</th>\n",
       "      <th>Area_Type_Industrial</th>\n",
       "      <th>Area_Type_MidTownResidential</th>\n",
       "    </tr>\n",
       "  </thead>\n",
       "  <tbody>\n",
       "    <tr>\n",
       "      <th>0</th>\n",
       "      <td>RRA15</td>\n",
       "      <td>13.100000</td>\n",
       "      <td>160.2366</td>\n",
       "      <td>0.070422</td>\n",
       "      <td>1775.5026</td>\n",
       "      <td>0</td>\n",
       "      <td>0</td>\n",
       "      <td>0</td>\n",
       "      <td>0</td>\n",
       "      <td>0</td>\n",
       "      <td>...</td>\n",
       "      <td>0</td>\n",
       "      <td>0</td>\n",
       "      <td>0</td>\n",
       "      <td>0</td>\n",
       "      <td>0</td>\n",
       "      <td>0</td>\n",
       "      <td>0</td>\n",
       "      <td>1</td>\n",
       "      <td>0</td>\n",
       "      <td>0</td>\n",
       "    </tr>\n",
       "    <tr>\n",
       "      <th>1</th>\n",
       "      <td>YVV26</td>\n",
       "      <td>13.565443</td>\n",
       "      <td>110.4384</td>\n",
       "      <td>0.013000</td>\n",
       "      <td>3069.1520</td>\n",
       "      <td>0</td>\n",
       "      <td>0</td>\n",
       "      <td>0</td>\n",
       "      <td>0</td>\n",
       "      <td>1</td>\n",
       "      <td>...</td>\n",
       "      <td>0</td>\n",
       "      <td>1</td>\n",
       "      <td>0</td>\n",
       "      <td>0</td>\n",
       "      <td>0</td>\n",
       "      <td>0</td>\n",
       "      <td>0</td>\n",
       "      <td>0</td>\n",
       "      <td>0</td>\n",
       "      <td>0</td>\n",
       "    </tr>\n",
       "    <tr>\n",
       "      <th>2</th>\n",
       "      <td>LJC15</td>\n",
       "      <td>9.025000</td>\n",
       "      <td>259.4092</td>\n",
       "      <td>0.060783</td>\n",
       "      <td>2603.0920</td>\n",
       "      <td>0</td>\n",
       "      <td>0</td>\n",
       "      <td>0</td>\n",
       "      <td>0</td>\n",
       "      <td>0</td>\n",
       "      <td>...</td>\n",
       "      <td>0</td>\n",
       "      <td>0</td>\n",
       "      <td>0</td>\n",
       "      <td>0</td>\n",
       "      <td>0</td>\n",
       "      <td>0</td>\n",
       "      <td>0</td>\n",
       "      <td>1</td>\n",
       "      <td>0</td>\n",
       "      <td>0</td>\n",
       "    </tr>\n",
       "    <tr>\n",
       "      <th>3</th>\n",
       "      <td>GWC40</td>\n",
       "      <td>11.800000</td>\n",
       "      <td>99.9830</td>\n",
       "      <td>0.065555</td>\n",
       "      <td>1101.7130</td>\n",
       "      <td>0</td>\n",
       "      <td>0</td>\n",
       "      <td>0</td>\n",
       "      <td>0</td>\n",
       "      <td>0</td>\n",
       "      <td>...</td>\n",
       "      <td>0</td>\n",
       "      <td>0</td>\n",
       "      <td>0</td>\n",
       "      <td>1</td>\n",
       "      <td>0</td>\n",
       "      <td>0</td>\n",
       "      <td>0</td>\n",
       "      <td>1</td>\n",
       "      <td>0</td>\n",
       "      <td>0</td>\n",
       "    </tr>\n",
       "    <tr>\n",
       "      <th>4</th>\n",
       "      <td>QMN13</td>\n",
       "      <td>14.296325</td>\n",
       "      <td>56.4402</td>\n",
       "      <td>0.248859</td>\n",
       "      <td>158.9402</td>\n",
       "      <td>0</td>\n",
       "      <td>0</td>\n",
       "      <td>0</td>\n",
       "      <td>1</td>\n",
       "      <td>0</td>\n",
       "      <td>...</td>\n",
       "      <td>1</td>\n",
       "      <td>0</td>\n",
       "      <td>0</td>\n",
       "      <td>0</td>\n",
       "      <td>0</td>\n",
       "      <td>0</td>\n",
       "      <td>0</td>\n",
       "      <td>0</td>\n",
       "      <td>0</td>\n",
       "      <td>1</td>\n",
       "    </tr>\n",
       "    <tr>\n",
       "      <th>...</th>\n",
       "      <td>...</td>\n",
       "      <td>...</td>\n",
       "      <td>...</td>\n",
       "      <td>...</td>\n",
       "      <td>...</td>\n",
       "      <td>...</td>\n",
       "      <td>...</td>\n",
       "      <td>...</td>\n",
       "      <td>...</td>\n",
       "      <td>...</td>\n",
       "      <td>...</td>\n",
       "      <td>...</td>\n",
       "      <td>...</td>\n",
       "      <td>...</td>\n",
       "      <td>...</td>\n",
       "      <td>...</td>\n",
       "      <td>...</td>\n",
       "      <td>...</td>\n",
       "      <td>...</td>\n",
       "      <td>...</td>\n",
       "      <td>...</td>\n",
       "    </tr>\n",
       "    <tr>\n",
       "      <th>6813</th>\n",
       "      <td>OYN80</td>\n",
       "      <td>8.535000</td>\n",
       "      <td>204.1452</td>\n",
       "      <td>0.112963</td>\n",
       "      <td>2070.4520</td>\n",
       "      <td>0</td>\n",
       "      <td>0</td>\n",
       "      <td>0</td>\n",
       "      <td>0</td>\n",
       "      <td>0</td>\n",
       "      <td>...</td>\n",
       "      <td>1</td>\n",
       "      <td>0</td>\n",
       "      <td>0</td>\n",
       "      <td>0</td>\n",
       "      <td>0</td>\n",
       "      <td>0</td>\n",
       "      <td>0</td>\n",
       "      <td>1</td>\n",
       "      <td>0</td>\n",
       "      <td>0</td>\n",
       "    </tr>\n",
       "    <tr>\n",
       "      <th>6814</th>\n",
       "      <td>ACW12</td>\n",
       "      <td>20.650000</td>\n",
       "      <td>235.1088</td>\n",
       "      <td>0.131103</td>\n",
       "      <td>2126.3792</td>\n",
       "      <td>0</td>\n",
       "      <td>0</td>\n",
       "      <td>0</td>\n",
       "      <td>0</td>\n",
       "      <td>0</td>\n",
       "      <td>...</td>\n",
       "      <td>1</td>\n",
       "      <td>0</td>\n",
       "      <td>0</td>\n",
       "      <td>0</td>\n",
       "      <td>0</td>\n",
       "      <td>0</td>\n",
       "      <td>0</td>\n",
       "      <td>1</td>\n",
       "      <td>0</td>\n",
       "      <td>0</td>\n",
       "    </tr>\n",
       "    <tr>\n",
       "      <th>6815</th>\n",
       "      <td>OPM10</td>\n",
       "      <td>20.000000</td>\n",
       "      <td>193.6292</td>\n",
       "      <td>0.105096</td>\n",
       "      <td>2119.7212</td>\n",
       "      <td>0</td>\n",
       "      <td>1</td>\n",
       "      <td>0</td>\n",
       "      <td>0</td>\n",
       "      <td>0</td>\n",
       "      <td>...</td>\n",
       "      <td>0</td>\n",
       "      <td>0</td>\n",
       "      <td>0</td>\n",
       "      <td>0</td>\n",
       "      <td>0</td>\n",
       "      <td>0</td>\n",
       "      <td>0</td>\n",
       "      <td>1</td>\n",
       "      <td>0</td>\n",
       "      <td>0</td>\n",
       "    </tr>\n",
       "    <tr>\n",
       "      <th>6816</th>\n",
       "      <td>SLY12</td>\n",
       "      <td>10.180000</td>\n",
       "      <td>162.8682</td>\n",
       "      <td>0.099957</td>\n",
       "      <td>1485.2138</td>\n",
       "      <td>0</td>\n",
       "      <td>0</td>\n",
       "      <td>0</td>\n",
       "      <td>0</td>\n",
       "      <td>0</td>\n",
       "      <td>...</td>\n",
       "      <td>0</td>\n",
       "      <td>0</td>\n",
       "      <td>0</td>\n",
       "      <td>0</td>\n",
       "      <td>1</td>\n",
       "      <td>0</td>\n",
       "      <td>0</td>\n",
       "      <td>1</td>\n",
       "      <td>0</td>\n",
       "      <td>0</td>\n",
       "    </tr>\n",
       "    <tr>\n",
       "      <th>6817</th>\n",
       "      <td>ATT10</td>\n",
       "      <td>7.930000</td>\n",
       "      <td>177.5500</td>\n",
       "      <td>0.117445</td>\n",
       "      <td>1943.9500</td>\n",
       "      <td>0</td>\n",
       "      <td>0</td>\n",
       "      <td>1</td>\n",
       "      <td>0</td>\n",
       "      <td>0</td>\n",
       "      <td>...</td>\n",
       "      <td>0</td>\n",
       "      <td>1</td>\n",
       "      <td>0</td>\n",
       "      <td>0</td>\n",
       "      <td>0</td>\n",
       "      <td>0</td>\n",
       "      <td>0</td>\n",
       "      <td>0</td>\n",
       "      <td>1</td>\n",
       "      <td>0</td>\n",
       "    </tr>\n",
       "  </tbody>\n",
       "</table>\n",
       "<p>6818 rows × 32 columns</p>\n",
       "</div>"
      ],
      "text/plain": [
       "     Medicine_ID  Counterfeit_Weight  Medicine_MRP  Availability_rating  \\\n",
       "0          RRA15           13.100000      160.2366             0.070422   \n",
       "1          YVV26           13.565443      110.4384             0.013000   \n",
       "2          LJC15            9.025000      259.4092             0.060783   \n",
       "3          GWC40           11.800000       99.9830             0.065555   \n",
       "4          QMN13           14.296325       56.4402             0.248859   \n",
       "...          ...                 ...           ...                  ...   \n",
       "6813       OYN80            8.535000      204.1452             0.112963   \n",
       "6814       ACW12           20.650000      235.1088             0.131103   \n",
       "6815       OPM10           20.000000      193.6292             0.105096   \n",
       "6816       SLY12           10.180000      162.8682             0.099957   \n",
       "6817       ATT10            7.930000      177.5500             0.117445   \n",
       "\n",
       "      Counterfeit_Sales  DistArea_ID_Area013  DistArea_ID_Area017  \\\n",
       "0             1775.5026                    0                    0   \n",
       "1             3069.1520                    0                    0   \n",
       "2             2603.0920                    0                    0   \n",
       "3             1101.7130                    0                    0   \n",
       "4              158.9402                    0                    0   \n",
       "...                 ...                  ...                  ...   \n",
       "6813          2070.4520                    0                    0   \n",
       "6814          2126.3792                    0                    0   \n",
       "6815          2119.7212                    0                    1   \n",
       "6816          1485.2138                    0                    0   \n",
       "6817          1943.9500                    0                    0   \n",
       "\n",
       "      DistArea_ID_Area018  DistArea_ID_Area019  DistArea_ID_Area027  ...  \\\n",
       "0                       0                    0                    0  ...   \n",
       "1                       0                    0                    1  ...   \n",
       "2                       0                    0                    0  ...   \n",
       "3                       0                    0                    0  ...   \n",
       "4                       0                    1                    0  ...   \n",
       "...                   ...                  ...                  ...  ...   \n",
       "6813                    0                    0                    0  ...   \n",
       "6814                    0                    0                    0  ...   \n",
       "6815                    0                    0                    0  ...   \n",
       "6816                    0                    0                    0  ...   \n",
       "6817                    1                    0                    0  ...   \n",
       "\n",
       "      Medicine_Type_Hreplacements  Medicine_Type_Mstablizers  \\\n",
       "0                               0                          0   \n",
       "1                               0                          1   \n",
       "2                               0                          0   \n",
       "3                               0                          0   \n",
       "4                               1                          0   \n",
       "...                           ...                        ...   \n",
       "6813                            1                          0   \n",
       "6814                            1                          0   \n",
       "6815                            0                          0   \n",
       "6816                            0                          0   \n",
       "6817                            0                          1   \n",
       "\n",
       "      Medicine_Type_MuscleRelaxants  Medicine_Type_OralContraceptives  \\\n",
       "0                                 0                                 0   \n",
       "1                                 0                                 0   \n",
       "2                                 0                                 0   \n",
       "3                                 0                                 1   \n",
       "4                                 0                                 0   \n",
       "...                             ...                               ...   \n",
       "6813                              0                                 0   \n",
       "6814                              0                                 0   \n",
       "6815                              0                                 0   \n",
       "6816                              0                                 0   \n",
       "6817                              0                                 0   \n",
       "\n",
       "      Medicine_Type_Statins  Medicine_Type_Stimulants  \\\n",
       "0                         0                         0   \n",
       "1                         0                         0   \n",
       "2                         0                         0   \n",
       "3                         0                         0   \n",
       "4                         0                         0   \n",
       "...                     ...                       ...   \n",
       "6813                      0                         0   \n",
       "6814                      0                         0   \n",
       "6815                      0                         0   \n",
       "6816                      1                         0   \n",
       "6817                      0                         0   \n",
       "\n",
       "      Medicine_Type_Tranquilizers  Area_Type_DownTown  Area_Type_Industrial  \\\n",
       "0                               0                   1                     0   \n",
       "1                               0                   0                     0   \n",
       "2                               0                   1                     0   \n",
       "3                               0                   1                     0   \n",
       "4                               0                   0                     0   \n",
       "...                           ...                 ...                   ...   \n",
       "6813                            0                   1                     0   \n",
       "6814                            0                   1                     0   \n",
       "6815                            0                   1                     0   \n",
       "6816                            0                   1                     0   \n",
       "6817                            0                   0                     1   \n",
       "\n",
       "      Area_Type_MidTownResidential  \n",
       "0                                0  \n",
       "1                                0  \n",
       "2                                0  \n",
       "3                                0  \n",
       "4                                1  \n",
       "...                            ...  \n",
       "6813                             0  \n",
       "6814                             0  \n",
       "6815                             0  \n",
       "6816                             0  \n",
       "6817                             0  \n",
       "\n",
       "[6818 rows x 32 columns]"
      ]
     },
     "execution_count": 69,
     "metadata": {},
     "output_type": "execute_result"
    }
   ],
   "source": [
    "train"
   ]
  },
  {
   "cell_type": "code",
   "execution_count": 70,
   "metadata": {},
   "outputs": [
    {
     "data": {
      "text/plain": [
       "Medicine_ID                          object\n",
       "Counterfeit_Weight                  float64\n",
       "Medicine_MRP                        float64\n",
       "Availability_rating                 float64\n",
       "Counterfeit_Sales                   float64\n",
       "DistArea_ID_Area013                   uint8\n",
       "DistArea_ID_Area017                   uint8\n",
       "DistArea_ID_Area018                   uint8\n",
       "DistArea_ID_Area019                   uint8\n",
       "DistArea_ID_Area027                   uint8\n",
       "DistArea_ID_Area035                   uint8\n",
       "DistArea_ID_Area045                   uint8\n",
       "DistArea_ID_Area046                   uint8\n",
       "DistArea_ID_Area049                   uint8\n",
       "Medicine_Type_Antacids                uint8\n",
       "Medicine_Type_Antibiotics             uint8\n",
       "Medicine_Type_Antifungal              uint8\n",
       "Medicine_Type_Antimalarial            uint8\n",
       "Medicine_Type_Antipyretics            uint8\n",
       "Medicine_Type_Antiseptics             uint8\n",
       "Medicine_Type_Antiviral               uint8\n",
       "Medicine_Type_Cardiac                 uint8\n",
       "Medicine_Type_Hreplacements           uint8\n",
       "Medicine_Type_Mstablizers             uint8\n",
       "Medicine_Type_MuscleRelaxants         uint8\n",
       "Medicine_Type_OralContraceptives      uint8\n",
       "Medicine_Type_Statins                 uint8\n",
       "Medicine_Type_Stimulants              uint8\n",
       "Medicine_Type_Tranquilizers           uint8\n",
       "Area_Type_DownTown                    uint8\n",
       "Area_Type_Industrial                  uint8\n",
       "Area_Type_MidTownResidential          uint8\n",
       "dtype: object"
      ]
     },
     "execution_count": 70,
     "metadata": {},
     "output_type": "execute_result"
    }
   ],
   "source": [
    "train.dtypes"
   ]
  },
  {
   "cell_type": "code",
   "execution_count": 71,
   "metadata": {},
   "outputs": [
    {
     "data": {
      "text/plain": [
       "(1705, 31)"
      ]
     },
     "execution_count": 71,
     "metadata": {},
     "output_type": "execute_result"
    }
   ],
   "source": [
    "test.shape"
   ]
  },
  {
   "cell_type": "code",
   "execution_count": 72,
   "metadata": {},
   "outputs": [
    {
     "data": {
      "text/plain": [
       "Medicine_ID                          object\n",
       "Counterfeit_Weight                  float64\n",
       "Medicine_MRP                        float64\n",
       "Availability_rating                 float64\n",
       "DistArea_ID_Area013                   uint8\n",
       "DistArea_ID_Area017                   uint8\n",
       "DistArea_ID_Area018                   uint8\n",
       "DistArea_ID_Area019                   uint8\n",
       "DistArea_ID_Area027                   uint8\n",
       "DistArea_ID_Area035                   uint8\n",
       "DistArea_ID_Area045                   uint8\n",
       "DistArea_ID_Area046                   uint8\n",
       "DistArea_ID_Area049                   uint8\n",
       "Medicine_Type_Antacids                uint8\n",
       "Medicine_Type_Antibiotics             uint8\n",
       "Medicine_Type_Antifungal              uint8\n",
       "Medicine_Type_Antimalarial            uint8\n",
       "Medicine_Type_Antipyretics            uint8\n",
       "Medicine_Type_Antiseptics             uint8\n",
       "Medicine_Type_Antiviral               uint8\n",
       "Medicine_Type_Cardiac                 uint8\n",
       "Medicine_Type_Hreplacements           uint8\n",
       "Medicine_Type_Mstablizers             uint8\n",
       "Medicine_Type_MuscleRelaxants         uint8\n",
       "Medicine_Type_OralContraceptives      uint8\n",
       "Medicine_Type_Statins                 uint8\n",
       "Medicine_Type_Stimulants              uint8\n",
       "Medicine_Type_Tranquilizers           uint8\n",
       "Area_Type_DownTown                    uint8\n",
       "Area_Type_Industrial                  uint8\n",
       "Area_Type_MidTownResidential          uint8\n",
       "dtype: object"
      ]
     },
     "execution_count": 72,
     "metadata": {},
     "output_type": "execute_result"
    }
   ],
   "source": [
    "test.dtypes"
   ]
  },
  {
   "cell_type": "code",
   "execution_count": 73,
   "metadata": {},
   "outputs": [
    {
     "data": {
      "text/plain": [
       "Medicine_ID                         0\n",
       "Counterfeit_Weight                  0\n",
       "Medicine_MRP                        0\n",
       "Availability_rating                 0\n",
       "Counterfeit_Sales                   0\n",
       "DistArea_ID_Area013                 0\n",
       "DistArea_ID_Area017                 0\n",
       "DistArea_ID_Area018                 0\n",
       "DistArea_ID_Area019                 0\n",
       "DistArea_ID_Area027                 0\n",
       "DistArea_ID_Area035                 0\n",
       "DistArea_ID_Area045                 0\n",
       "DistArea_ID_Area046                 0\n",
       "DistArea_ID_Area049                 0\n",
       "Medicine_Type_Antacids              0\n",
       "Medicine_Type_Antibiotics           0\n",
       "Medicine_Type_Antifungal            0\n",
       "Medicine_Type_Antimalarial          0\n",
       "Medicine_Type_Antipyretics          0\n",
       "Medicine_Type_Antiseptics           0\n",
       "Medicine_Type_Antiviral             0\n",
       "Medicine_Type_Cardiac               0\n",
       "Medicine_Type_Hreplacements         0\n",
       "Medicine_Type_Mstablizers           0\n",
       "Medicine_Type_MuscleRelaxants       0\n",
       "Medicine_Type_OralContraceptives    0\n",
       "Medicine_Type_Statins               0\n",
       "Medicine_Type_Stimulants            0\n",
       "Medicine_Type_Tranquilizers         0\n",
       "Area_Type_DownTown                  0\n",
       "Area_Type_Industrial                0\n",
       "Area_Type_MidTownResidential        0\n",
       "dtype: int64"
      ]
     },
     "execution_count": 73,
     "metadata": {},
     "output_type": "execute_result"
    }
   ],
   "source": [
    "train.isna().sum()"
   ]
  },
  {
   "cell_type": "code",
   "execution_count": 74,
   "metadata": {},
   "outputs": [
    {
     "data": {
      "text/plain": [
       "Medicine_ID                         0\n",
       "Counterfeit_Weight                  0\n",
       "Medicine_MRP                        0\n",
       "Availability_rating                 0\n",
       "DistArea_ID_Area013                 0\n",
       "DistArea_ID_Area017                 0\n",
       "DistArea_ID_Area018                 0\n",
       "DistArea_ID_Area019                 0\n",
       "DistArea_ID_Area027                 0\n",
       "DistArea_ID_Area035                 0\n",
       "DistArea_ID_Area045                 0\n",
       "DistArea_ID_Area046                 0\n",
       "DistArea_ID_Area049                 0\n",
       "Medicine_Type_Antacids              0\n",
       "Medicine_Type_Antibiotics           0\n",
       "Medicine_Type_Antifungal            0\n",
       "Medicine_Type_Antimalarial          0\n",
       "Medicine_Type_Antipyretics          0\n",
       "Medicine_Type_Antiseptics           0\n",
       "Medicine_Type_Antiviral             0\n",
       "Medicine_Type_Cardiac               0\n",
       "Medicine_Type_Hreplacements         0\n",
       "Medicine_Type_Mstablizers           0\n",
       "Medicine_Type_MuscleRelaxants       0\n",
       "Medicine_Type_OralContraceptives    0\n",
       "Medicine_Type_Statins               0\n",
       "Medicine_Type_Stimulants            0\n",
       "Medicine_Type_Tranquilizers         0\n",
       "Area_Type_DownTown                  0\n",
       "Area_Type_Industrial                0\n",
       "Area_Type_MidTownResidential        0\n",
       "dtype: int64"
      ]
     },
     "execution_count": 74,
     "metadata": {},
     "output_type": "execute_result"
    }
   ],
   "source": [
    "test.isna().sum()"
   ]
  },
  {
   "cell_type": "code",
   "execution_count": 75,
   "metadata": {},
   "outputs": [
    {
     "data": {
      "text/plain": [
       "Index(['Medicine_ID', 'Counterfeit_Weight', 'Medicine_MRP',\n",
       "       'Availability_rating', 'Counterfeit_Sales', 'DistArea_ID_Area013',\n",
       "       'DistArea_ID_Area017', 'DistArea_ID_Area018', 'DistArea_ID_Area019',\n",
       "       'DistArea_ID_Area027', 'DistArea_ID_Area035', 'DistArea_ID_Area045',\n",
       "       'DistArea_ID_Area046', 'DistArea_ID_Area049', 'Medicine_Type_Antacids',\n",
       "       'Medicine_Type_Antibiotics', 'Medicine_Type_Antifungal',\n",
       "       'Medicine_Type_Antimalarial', 'Medicine_Type_Antipyretics',\n",
       "       'Medicine_Type_Antiseptics', 'Medicine_Type_Antiviral',\n",
       "       'Medicine_Type_Cardiac', 'Medicine_Type_Hreplacements',\n",
       "       'Medicine_Type_Mstablizers', 'Medicine_Type_MuscleRelaxants',\n",
       "       'Medicine_Type_OralContraceptives', 'Medicine_Type_Statins',\n",
       "       'Medicine_Type_Stimulants', 'Medicine_Type_Tranquilizers',\n",
       "       'Area_Type_DownTown', 'Area_Type_Industrial',\n",
       "       'Area_Type_MidTownResidential'],\n",
       "      dtype='object')"
      ]
     },
     "execution_count": 75,
     "metadata": {},
     "output_type": "execute_result"
    }
   ],
   "source": [
    "train.columns"
   ]
  },
  {
   "cell_type": "code",
   "execution_count": 76,
   "metadata": {},
   "outputs": [
    {
     "name": "stdout",
     "output_type": "stream",
     "text": [
      "(6818, 30)\n",
      "(6818,)\n"
     ]
    }
   ],
   "source": [
    "X = train.drop(['Medicine_ID', 'Counterfeit_Sales'], axis=1)\n",
    "y = train['Counterfeit_Sales']\n",
    "print(X.shape)\n",
    "print(y.shape)"
   ]
  },
  {
   "cell_type": "code",
   "execution_count": 77,
   "metadata": {},
   "outputs": [
    {
     "name": "stdout",
     "output_type": "stream",
     "text": [
      "(5454, 30) (5454,)\n",
      "(1364, 30) (1364,)\n"
     ]
    }
   ],
   "source": [
    "from sklearn.model_selection import train_test_split\n",
    "X_train, X_test, y_train, y_test = train_test_split(X, y, test_size=0.2, random_state=101)\n",
    "print(X_train.shape, y_train.shape)\n",
    "print(X_test.shape, y_test.shape)"
   ]
  },
  {
   "cell_type": "code",
   "execution_count": 78,
   "metadata": {},
   "outputs": [],
   "source": [
    "from sklearn.linear_model import LinearRegression, Lasso, Ridge\n",
    "lr = LinearRegression(normalize=True)\n",
    "lasso = Lasso(alpha=0.0001)\n",
    "ridge = Ridge(alpha=0.0001)"
   ]
  },
  {
   "cell_type": "code",
   "execution_count": 79,
   "metadata": {},
   "outputs": [
    {
     "name": "stderr",
     "output_type": "stream",
     "text": [
      "C:\\ProgramData\\Anaconda3\\lib\\site-packages\\sklearn\\linear_model\\_coordinate_descent.py:476: ConvergenceWarning: Objective did not converge. You might want to increase the number of iterations. Duality gap: 29649303.057382584, tolerance: 1575738.1163674667\n",
      "  positive)\n"
     ]
    },
    {
     "data": {
      "text/plain": [
       "Ridge(alpha=0.0001, copy_X=True, fit_intercept=True, max_iter=None,\n",
       "      normalize=False, random_state=None, solver='auto', tol=0.001)"
      ]
     },
     "execution_count": 79,
     "metadata": {},
     "output_type": "execute_result"
    }
   ],
   "source": [
    "lr.fit(X_train, y_train)\n",
    "lasso.fit(X_train, y_train)\n",
    "ridge.fit(X_train, y_train)"
   ]
  },
  {
   "cell_type": "code",
   "execution_count": 80,
   "metadata": {},
   "outputs": [],
   "source": [
    "pred_lr = lr.predict(X_test)\n",
    "pred_lasso = lasso.predict(X_test)\n",
    "pred_ridge = ridge.predict(X_test)"
   ]
  },
  {
   "cell_type": "code",
   "execution_count": 81,
   "metadata": {},
   "outputs": [
    {
     "name": "stdout",
     "output_type": "stream",
     "text": [
      "0.5703189032681519\n",
      "823.9565799120234\n",
      "0.5703046332927271\n",
      "823.9476439407217\n",
      "0.570304635549777\n",
      "823.9475961491634\n"
     ]
    }
   ],
   "source": [
    "from sklearn.metrics import r2_score, mean_absolute_error\n",
    "r_sq_lr = r2_score(y_test, pred_lr)\n",
    "print(r_sq_lr)\n",
    "mae_lr = mean_absolute_error(y_test, pred_lr)\n",
    "print(mae_lr)\n",
    "\n",
    "r_sq_lasso = r2_score(y_test, pred_lasso)\n",
    "print(r_sq_lasso)\n",
    "mae_lasso = mean_absolute_error(y_test, pred_lasso)\n",
    "print(mae_lasso)\n",
    "\n",
    "r_sq_ridge = r2_score(y_test, pred_ridge)\n",
    "print(r_sq_ridge)\n",
    "mae_ridge = mean_absolute_error(y_test, pred_ridge)\n",
    "print(mae_ridge)"
   ]
  },
  {
   "cell_type": "code",
   "execution_count": 82,
   "metadata": {},
   "outputs": [
    {
     "name": "stdout",
     "output_type": "stream",
     "text": [
      "0.5036406145108293\n",
      "0.5036459976260712\n",
      "0.5036460264161666\n"
     ]
    }
   ],
   "source": [
    "print(1 - (mae_lr/1660))\n",
    "print(1 - (mae_lasso/1660))\n",
    "print(1 - (mae_ridge/1660))"
   ]
  },
  {
   "cell_type": "code",
   "execution_count": 83,
   "metadata": {},
   "outputs": [
    {
     "data": {
      "image/png": "[encoded data removed]",
      "text/plain": [
       "<Figure size 1080x432 with 1 Axes>"
      ]
     },
     "metadata": {
      "needs_background": "light"
     },
     "output_type": "display_data"
    }
   ],
   "source": [
    "plt.figure(figsize=(15,6))\n",
    "sns.barplot(x=X.columns, y=lr.coef_)\n",
    "plt.xticks(rotation=90)\n",
    "plt.show()"
   ]
  },
  {
   "cell_type": "code",
   "execution_count": 84,
   "metadata": {},
   "outputs": [],
   "source": [
    "from sklearn.ensemble import ExtraTreesRegressor\n",
    "ex_tree = ExtraTreesRegressor()"
   ]
  },
  {
   "cell_type": "code",
   "execution_count": 85,
   "metadata": {},
   "outputs": [
    {
     "data": {
      "text/plain": [
       "ExtraTreesRegressor(bootstrap=False, ccp_alpha=0.0, criterion='mse',\n",
       "                    max_depth=None, max_features='auto', max_leaf_nodes=None,\n",
       "                    max_samples=None, min_impurity_decrease=0.0,\n",
       "                    min_impurity_split=None, min_samples_leaf=1,\n",
       "                    min_samples_split=2, min_weight_fraction_leaf=0.0,\n",
       "                    n_estimators=100, n_jobs=None, oob_score=False,\n",
       "                    random_state=None, verbose=0, warm_start=False)"
      ]
     },
     "execution_count": 85,
     "metadata": {},
     "output_type": "execute_result"
    }
   ],
   "source": [
    "ex_tree.fit(X_train, y_train)"
   ]
  },
  {
   "cell_type": "code",
   "execution_count": 86,
   "metadata": {},
   "outputs": [
    {
     "data": {
      "text/plain": [
       "array([5.77259021e-02, 4.33871902e-01, 7.94840504e-02, 8.84961142e-03,\n",
       "       9.98375255e-03, 1.98191535e-03, 1.07335946e-04, 7.46091624e-02,\n",
       "       9.53629369e-03, 8.02342551e-03, 7.94992226e-03, 1.00902099e-02,\n",
       "       5.38209668e-03, 1.31788671e-02, 3.83633945e-03, 6.85098324e-03,\n",
       "       1.03468434e-02, 1.15695495e-02, 2.52471044e-03, 8.92801499e-03,\n",
       "       1.44696341e-02, 7.40948691e-03, 2.71022379e-03, 1.09395652e-02,\n",
       "       4.66984396e-03, 3.86012020e-03, 7.00105010e-03, 2.79358698e-03,\n",
       "       1.64713345e-03, 1.79668467e-01])"
      ]
     },
     "execution_count": 86,
     "metadata": {},
     "output_type": "execute_result"
    }
   ],
   "source": [
    "ex_tree.feature_importances_"
   ]
  },
  {
   "cell_type": "code",
   "execution_count": 87,
   "metadata": {},
   "outputs": [
    {
     "data": {
      "text/html": [
       "<div>\n",
       "<style scoped>\n",
       "    .dataframe tbody tr th:only-of-type {\n",
       "        vertical-align: middle;\n",
       "    }\n",
       "\n",
       "    .dataframe tbody tr th {\n",
       "        vertical-align: top;\n",
       "    }\n",
       "\n",
       "    .dataframe thead th {\n",
       "        text-align: right;\n",
       "    }\n",
       "</style>\n",
       "<table border=\"1\" class=\"dataframe\">\n",
       "  <thead>\n",
       "    <tr style=\"text-align: right;\">\n",
       "      <th></th>\n",
       "      <th>Feature_Name</th>\n",
       "      <th>Feature_Importance</th>\n",
       "    </tr>\n",
       "  </thead>\n",
       "  <tbody>\n",
       "    <tr>\n",
       "      <th>1</th>\n",
       "      <td>Medicine_MRP</td>\n",
       "      <td>0.433872</td>\n",
       "    </tr>\n",
       "    <tr>\n",
       "      <th>29</th>\n",
       "      <td>Area_Type_MidTownResidential</td>\n",
       "      <td>0.179668</td>\n",
       "    </tr>\n",
       "    <tr>\n",
       "      <th>2</th>\n",
       "      <td>Availability_rating</td>\n",
       "      <td>0.079484</td>\n",
       "    </tr>\n",
       "    <tr>\n",
       "      <th>7</th>\n",
       "      <td>DistArea_ID_Area027</td>\n",
       "      <td>0.074609</td>\n",
       "    </tr>\n",
       "    <tr>\n",
       "      <th>0</th>\n",
       "      <td>Counterfeit_Weight</td>\n",
       "      <td>0.057726</td>\n",
       "    </tr>\n",
       "    <tr>\n",
       "      <th>20</th>\n",
       "      <td>Medicine_Type_Hreplacements</td>\n",
       "      <td>0.014470</td>\n",
       "    </tr>\n",
       "    <tr>\n",
       "      <th>13</th>\n",
       "      <td>Medicine_Type_Antibiotics</td>\n",
       "      <td>0.013179</td>\n",
       "    </tr>\n",
       "    <tr>\n",
       "      <th>17</th>\n",
       "      <td>Medicine_Type_Antiseptics</td>\n",
       "      <td>0.011570</td>\n",
       "    </tr>\n",
       "    <tr>\n",
       "      <th>23</th>\n",
       "      <td>Medicine_Type_OralContraceptives</td>\n",
       "      <td>0.010940</td>\n",
       "    </tr>\n",
       "    <tr>\n",
       "      <th>16</th>\n",
       "      <td>Medicine_Type_Antipyretics</td>\n",
       "      <td>0.010347</td>\n",
       "    </tr>\n",
       "    <tr>\n",
       "      <th>11</th>\n",
       "      <td>DistArea_ID_Area049</td>\n",
       "      <td>0.010090</td>\n",
       "    </tr>\n",
       "    <tr>\n",
       "      <th>4</th>\n",
       "      <td>DistArea_ID_Area017</td>\n",
       "      <td>0.009984</td>\n",
       "    </tr>\n",
       "    <tr>\n",
       "      <th>8</th>\n",
       "      <td>DistArea_ID_Area035</td>\n",
       "      <td>0.009536</td>\n",
       "    </tr>\n",
       "    <tr>\n",
       "      <th>19</th>\n",
       "      <td>Medicine_Type_Cardiac</td>\n",
       "      <td>0.008928</td>\n",
       "    </tr>\n",
       "    <tr>\n",
       "      <th>3</th>\n",
       "      <td>DistArea_ID_Area013</td>\n",
       "      <td>0.008850</td>\n",
       "    </tr>\n",
       "    <tr>\n",
       "      <th>9</th>\n",
       "      <td>DistArea_ID_Area045</td>\n",
       "      <td>0.008023</td>\n",
       "    </tr>\n",
       "    <tr>\n",
       "      <th>10</th>\n",
       "      <td>DistArea_ID_Area046</td>\n",
       "      <td>0.007950</td>\n",
       "    </tr>\n",
       "    <tr>\n",
       "      <th>21</th>\n",
       "      <td>Medicine_Type_Mstablizers</td>\n",
       "      <td>0.007409</td>\n",
       "    </tr>\n",
       "    <tr>\n",
       "      <th>26</th>\n",
       "      <td>Medicine_Type_Tranquilizers</td>\n",
       "      <td>0.007001</td>\n",
       "    </tr>\n",
       "    <tr>\n",
       "      <th>15</th>\n",
       "      <td>Medicine_Type_Antimalarial</td>\n",
       "      <td>0.006851</td>\n",
       "    </tr>\n",
       "    <tr>\n",
       "      <th>12</th>\n",
       "      <td>Medicine_Type_Antacids</td>\n",
       "      <td>0.005382</td>\n",
       "    </tr>\n",
       "    <tr>\n",
       "      <th>24</th>\n",
       "      <td>Medicine_Type_Statins</td>\n",
       "      <td>0.004670</td>\n",
       "    </tr>\n",
       "    <tr>\n",
       "      <th>25</th>\n",
       "      <td>Medicine_Type_Stimulants</td>\n",
       "      <td>0.003860</td>\n",
       "    </tr>\n",
       "    <tr>\n",
       "      <th>14</th>\n",
       "      <td>Medicine_Type_Antifungal</td>\n",
       "      <td>0.003836</td>\n",
       "    </tr>\n",
       "    <tr>\n",
       "      <th>27</th>\n",
       "      <td>Area_Type_DownTown</td>\n",
       "      <td>0.002794</td>\n",
       "    </tr>\n",
       "    <tr>\n",
       "      <th>22</th>\n",
       "      <td>Medicine_Type_MuscleRelaxants</td>\n",
       "      <td>0.002710</td>\n",
       "    </tr>\n",
       "    <tr>\n",
       "      <th>18</th>\n",
       "      <td>Medicine_Type_Antiviral</td>\n",
       "      <td>0.002525</td>\n",
       "    </tr>\n",
       "    <tr>\n",
       "      <th>5</th>\n",
       "      <td>DistArea_ID_Area018</td>\n",
       "      <td>0.001982</td>\n",
       "    </tr>\n",
       "    <tr>\n",
       "      <th>28</th>\n",
       "      <td>Area_Type_Industrial</td>\n",
       "      <td>0.001647</td>\n",
       "    </tr>\n",
       "    <tr>\n",
       "      <th>6</th>\n",
       "      <td>DistArea_ID_Area019</td>\n",
       "      <td>0.000107</td>\n",
       "    </tr>\n",
       "  </tbody>\n",
       "</table>\n",
       "</div>"
      ],
      "text/plain": [
       "                        Feature_Name  Feature_Importance\n",
       "1                       Medicine_MRP            0.433872\n",
       "29      Area_Type_MidTownResidential            0.179668\n",
       "2                Availability_rating            0.079484\n",
       "7                DistArea_ID_Area027            0.074609\n",
       "0                 Counterfeit_Weight            0.057726\n",
       "20       Medicine_Type_Hreplacements            0.014470\n",
       "13         Medicine_Type_Antibiotics            0.013179\n",
       "17         Medicine_Type_Antiseptics            0.011570\n",
       "23  Medicine_Type_OralContraceptives            0.010940\n",
       "16        Medicine_Type_Antipyretics            0.010347\n",
       "11               DistArea_ID_Area049            0.010090\n",
       "4                DistArea_ID_Area017            0.009984\n",
       "8                DistArea_ID_Area035            0.009536\n",
       "19             Medicine_Type_Cardiac            0.008928\n",
       "3                DistArea_ID_Area013            0.008850\n",
       "9                DistArea_ID_Area045            0.008023\n",
       "10               DistArea_ID_Area046            0.007950\n",
       "21         Medicine_Type_Mstablizers            0.007409\n",
       "26       Medicine_Type_Tranquilizers            0.007001\n",
       "15        Medicine_Type_Antimalarial            0.006851\n",
       "12            Medicine_Type_Antacids            0.005382\n",
       "24             Medicine_Type_Statins            0.004670\n",
       "25          Medicine_Type_Stimulants            0.003860\n",
       "14          Medicine_Type_Antifungal            0.003836\n",
       "27                Area_Type_DownTown            0.002794\n",
       "22     Medicine_Type_MuscleRelaxants            0.002710\n",
       "18           Medicine_Type_Antiviral            0.002525\n",
       "5                DistArea_ID_Area018            0.001982\n",
       "28              Area_Type_Industrial            0.001647\n",
       "6                DistArea_ID_Area019            0.000107"
      ]
     },
     "execution_count": 87,
     "metadata": {},
     "output_type": "execute_result"
    }
   ],
   "source": [
    "data = {'Feature_Name':X.columns, 'Feature_Importance':ex_tree.feature_importances_}\n",
    "\n",
    "feat_imp = pd.DataFrame(data).sort_values(by='Feature_Importance', ascending=False)\n",
    "feat_imp"
   ]
  },
  {
   "cell_type": "code",
   "execution_count": 88,
   "metadata": {
    "scrolled": false
   },
   "outputs": [
    {
     "data": {
      "image/png": "[encoded data removed]",
      "text/plain": [
       "<Figure size 1080x432 with 1 Axes>"
      ]
     },
     "metadata": {
      "needs_background": "light"
     },
     "output_type": "display_data"
    }
   ],
   "source": [
    "plt.figure(figsize=(15,6))\n",
    "sns.barplot(data=feat_imp, x='Feature_Name', y='Feature_Importance')\n",
    "plt.xticks(rotation=90)\n",
    "plt.show()"
   ]
  },
  {
   "cell_type": "code",
   "execution_count": null,
   "metadata": {},
   "outputs": [],
   "source": []
  },
  {
   "cell_type": "code",
   "execution_count": 89,
   "metadata": {},
   "outputs": [],
   "source": [
    "from sklearn.tree import DecisionTreeRegressor"
   ]
  },
  {
   "cell_type": "code",
   "execution_count": 90,
   "metadata": {},
   "outputs": [],
   "source": [
    "dt = DecisionTreeRegressor(max_depth=5, ccp_alpha=0.005,\n",
    "                           max_leaf_nodes=10, \n",
    "                           min_impurity_split=50, min_samples_leaf=10, \n",
    "                           random_state=101)"
   ]
  },
  {
   "cell_type": "code",
   "execution_count": 91,
   "metadata": {},
   "outputs": [
    {
     "name": "stderr",
     "output_type": "stream",
     "text": [
      "C:\\ProgramData\\Anaconda3\\lib\\site-packages\\sklearn\\tree\\_classes.py:301: FutureWarning: The min_impurity_split parameter is deprecated. Its default value will change from 1e-7 to 0 in version 0.23, and it will be removed in 0.25. Use the min_impurity_decrease parameter instead.\n",
      "  FutureWarning)\n"
     ]
    },
    {
     "data": {
      "text/plain": [
       "DecisionTreeRegressor(ccp_alpha=0.005, criterion='mse', max_depth=5,\n",
       "                      max_features=None, max_leaf_nodes=10,\n",
       "                      min_impurity_decrease=0.0, min_impurity_split=50,\n",
       "                      min_samples_leaf=10, min_samples_split=2,\n",
       "                      min_weight_fraction_leaf=0.0, presort='deprecated',\n",
       "                      random_state=101, splitter='best')"
      ]
     },
     "execution_count": 91,
     "metadata": {},
     "output_type": "execute_result"
    }
   ],
   "source": [
    "dt.fit(X_train, y_train)"
   ]
  },
  {
   "cell_type": "code",
   "execution_count": 92,
   "metadata": {},
   "outputs": [],
   "source": [
    "pred_dt = dt.predict(X_test)"
   ]
  },
  {
   "cell_type": "code",
   "execution_count": 93,
   "metadata": {},
   "outputs": [],
   "source": [
    "mae_dt = mean_absolute_error(y_test, pred_dt)"
   ]
  },
  {
   "cell_type": "code",
   "execution_count": 94,
   "metadata": {},
   "outputs": [
    {
     "data": {
      "text/plain": [
       "779.499225545682"
      ]
     },
     "execution_count": 94,
     "metadata": {},
     "output_type": "execute_result"
    }
   ],
   "source": [
    "mae_dt"
   ]
  },
  {
   "cell_type": "code",
   "execution_count": 95,
   "metadata": {},
   "outputs": [
    {
     "data": {
      "text/plain": [
       "0.5304221532857338"
      ]
     },
     "execution_count": 95,
     "metadata": {},
     "output_type": "execute_result"
    }
   ],
   "source": [
    "1 - (mae_dt/1660)"
   ]
  },
  {
   "cell_type": "code",
   "execution_count": 96,
   "metadata": {},
   "outputs": [],
   "source": [
    "from sklearn.ensemble import RandomForestRegressor"
   ]
  },
  {
   "cell_type": "code",
   "execution_count": 97,
   "metadata": {},
   "outputs": [],
   "source": [
    "rf = RandomForestRegressor(n_estimators=500,min_samples_leaf=40,\n",
    "                           max_depth=25,\n",
    "                           max_leaf_nodes=50,\n",
    "                           min_impurity_decrease=0.005,\n",
    "                           random_state=101)"
   ]
  },
  {
   "cell_type": "code",
   "execution_count": 98,
   "metadata": {
    "scrolled": true
   },
   "outputs": [
    {
     "data": {
      "text/plain": [
       "RandomForestRegressor(bootstrap=True, ccp_alpha=0.0, criterion='mse',\n",
       "                      max_depth=25, max_features='auto', max_leaf_nodes=50,\n",
       "                      max_samples=None, min_impurity_decrease=0.005,\n",
       "                      min_impurity_split=None, min_samples_leaf=40,\n",
       "                      min_samples_split=2, min_weight_fraction_leaf=0.0,\n",
       "                      n_estimators=500, n_jobs=None, oob_score=False,\n",
       "                      random_state=101, verbose=0, warm_start=False)"
      ]
     },
     "execution_count": 98,
     "metadata": {},
     "output_type": "execute_result"
    }
   ],
   "source": [
    "rf.fit(X_train, y_train)"
   ]
  },
  {
   "cell_type": "code",
   "execution_count": 99,
   "metadata": {},
   "outputs": [],
   "source": [
    "pred_rf = rf.predict(X_test)"
   ]
  },
  {
   "cell_type": "code",
   "execution_count": 100,
   "metadata": {},
   "outputs": [],
   "source": [
    "mae_rf = mean_absolute_error(y_test, pred_rf)"
   ]
  },
  {
   "cell_type": "code",
   "execution_count": 101,
   "metadata": {},
   "outputs": [
    {
     "data": {
      "text/plain": [
       "756.529435632092"
      ]
     },
     "execution_count": 101,
     "metadata": {},
     "output_type": "execute_result"
    }
   ],
   "source": [
    "mae_rf"
   ]
  },
  {
   "cell_type": "code",
   "execution_count": 102,
   "metadata": {},
   "outputs": [],
   "source": [
    "f_imp = pd.DataFrame(zip(X.columns, rf.feature_importances_), \n",
    "                     columns=['Feature', 'Feature_Imp'])"
   ]
  },
  {
   "cell_type": "code",
   "execution_count": 103,
   "metadata": {},
   "outputs": [
    {
     "data": {
      "image/png": "[encoded data removed]",
      "text/plain": [
       "<Figure size 1080x576 with 1 Axes>"
      ]
     },
     "metadata": {
      "needs_background": "light"
     },
     "output_type": "display_data"
    }
   ],
   "source": [
    "plt.figure(figsize=(15,8))\n",
    "sns.barplot(data=f_imp, x='Feature', y='Feature_Imp')\n",
    "plt.xticks(rotation=90)\n",
    "plt.show()"
   ]
  },
  {
   "cell_type": "code",
   "execution_count": 104,
   "metadata": {},
   "outputs": [
    {
     "data": {
      "text/plain": [
       "0.5442593761252458"
      ]
     },
     "execution_count": 104,
     "metadata": {},
     "output_type": "execute_result"
    }
   ],
   "source": [
    "1 - mae_rf/1660"
   ]
  },
  {
   "cell_type": "code",
   "execution_count": null,
   "metadata": {},
   "outputs": [],
   "source": []
  },
  {
   "cell_type": "code",
   "execution_count": null,
   "metadata": {},
   "outputs": [],
   "source": []
  }
 ],
 "metadata": {
  "kernelspec": {
   "display_name": "Python 3",
   "language": "python",
   "name": "python3"
  },
  "language_info": {
   "codemirror_mode": {
    "name": "ipython",
    "version": 3
   },
   "file_extension": ".py",
   "mimetype": "text/x-python",
   "name": "python",
   "nbconvert_exporter": "python",
   "pygments_lexer": "ipython3",
   "version": "3.7.6"
  }
 },
 "nbformat": 4,
 "nbformat_minor": 4
}
